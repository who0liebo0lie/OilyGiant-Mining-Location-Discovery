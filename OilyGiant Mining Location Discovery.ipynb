{
 "cells": [
  {
   "cell_type": "markdown",
   "metadata": {},
   "source": [
    "# Machine Learning in Business: OilyGiant Mining Location Discovery. "
   ]
  },
  {
   "cell_type": "markdown",
   "metadata": {},
   "source": [
    "Project will demonstrate ability to perform machine learning in a business setting.  Data comes from OilyGiant mining company (geo_data_0/1/2.csv which has three feature points). Target task is to find the best place for a new well.\n",
    "\n",
    "Conditions to Assist in Model. :\n",
    "Only linear regression is suitable for model training.\n",
    "A study of 500 points is carried with picking the best 200 points for the profit calculation.\n",
    "The budget for development of 200 oil wells is 100 USD million.\n",
    "One barrel of raw materials brings 4.5 USD of revenue The revenue from one unit of product is 4,500 dollars (volume of reserves is in thousand barrels).\n",
    "After the risk evaluation, keep only the regions with the risk of losses lower than 2.5%. From the ones that fit the criteria, the region with the highest average profit should be selected.\n",
    "\n",
    "Procedure:\n",
    "Collect the oil well parameters in the selected region: oil quality and volume of reserves;\n",
    "Build a model for predicting the volume of reserves in the new wells.  Analyze to pick region with highest profit margin.\n",
    "Pick the oil wells with the highest estimated values;\n",
    "Pick the region with the highest total profit for the selected oil wells.\n",
    "Data is on oil samples from three regions. Parameters of each oil well in the region are already known. Analyze potential profit and risks using the Bootstrapping technique.\n"
   ]
  },
  {
   "cell_type": "code",
   "execution_count": 1,
   "metadata": {},
   "outputs": [],
   "source": [
    "#import all needed libraries \n",
    "import pandas as pd\n",
    "import numpy as np\n",
    "\n",
    "#import display libraries \n",
    "import seaborn as sns\n",
    "import matplotlib.pyplot as plt\n",
    "\n",
    "#import named regression models \n",
    "from sklearn.linear_model import LinearRegression\n",
    "\n",
    "#import ability to split into training and testing data sets \n",
    "from sklearn.model_selection import train_test_split\n",
    "\n",
    "#import ability to evaluate accuracy of data \n",
    "from sklearn.metrics import mean_squared_error\n",
    "from sklearn.metrics import accuracy_score\n",
    "\n",
    "\n",
    "from joblib import dump\n",
    "\n",
    "#needed to compare. \n",
    "from sklearn.utils import shuffle\n",
    "from sklearn.utils import resample\n",
    "from sklearn.metrics import f1_score\n",
    "from sklearn.metrics import roc_curve\n",
    "from sklearn.metrics import roc_auc_score\n",
    "from sklearn.model_selection import GridSearchCV\n",
    "from sklearn.metrics import mean_squared_error\n",
    "\n"
   ]
  },
  {
   "cell_type": "markdown",
   "metadata": {},
   "source": [
    "EDA of files"
   ]
  },
  {
   "cell_type": "code",
   "execution_count": 2,
   "metadata": {
    "scrolled": true
   },
   "outputs": [
    {
     "data": {
      "text/html": [
       "<div>\n",
       "<style scoped>\n",
       "    .dataframe tbody tr th:only-of-type {\n",
       "        vertical-align: middle;\n",
       "    }\n",
       "\n",
       "    .dataframe tbody tr th {\n",
       "        vertical-align: top;\n",
       "    }\n",
       "\n",
       "    .dataframe thead th {\n",
       "        text-align: right;\n",
       "    }\n",
       "</style>\n",
       "<table border=\"1\" class=\"dataframe\">\n",
       "  <thead>\n",
       "    <tr style=\"text-align: right;\">\n",
       "      <th></th>\n",
       "      <th>id</th>\n",
       "      <th>f0</th>\n",
       "      <th>f1</th>\n",
       "      <th>f2</th>\n",
       "      <th>product</th>\n",
       "    </tr>\n",
       "  </thead>\n",
       "  <tbody>\n",
       "    <tr>\n",
       "      <th>0</th>\n",
       "      <td>txEyH</td>\n",
       "      <td>0.705745</td>\n",
       "      <td>-0.497823</td>\n",
       "      <td>1.221170</td>\n",
       "      <td>105.280062</td>\n",
       "    </tr>\n",
       "    <tr>\n",
       "      <th>1</th>\n",
       "      <td>2acmU</td>\n",
       "      <td>1.334711</td>\n",
       "      <td>-0.340164</td>\n",
       "      <td>4.365080</td>\n",
       "      <td>73.037750</td>\n",
       "    </tr>\n",
       "    <tr>\n",
       "      <th>2</th>\n",
       "      <td>409Wp</td>\n",
       "      <td>1.022732</td>\n",
       "      <td>0.151990</td>\n",
       "      <td>1.419926</td>\n",
       "      <td>85.265647</td>\n",
       "    </tr>\n",
       "  </tbody>\n",
       "</table>\n",
       "</div>"
      ],
      "text/plain": [
       "      id        f0        f1        f2     product\n",
       "0  txEyH  0.705745 -0.497823  1.221170  105.280062\n",
       "1  2acmU  1.334711 -0.340164  4.365080   73.037750\n",
       "2  409Wp  1.022732  0.151990  1.419926   85.265647"
      ]
     },
     "execution_count": 2,
     "metadata": {},
     "output_type": "execute_result"
    }
   ],
   "source": [
    "site1=pd.read_csv('/datasets/geo_data_0.csv')\n",
    "site1.head(3)"
   ]
  },
  {
   "cell_type": "code",
   "execution_count": 3,
   "metadata": {},
   "outputs": [
    {
     "name": "stdout",
     "output_type": "stream",
     "text": [
      "<class 'pandas.core.frame.DataFrame'>\n",
      "RangeIndex: 100000 entries, 0 to 99999\n",
      "Data columns (total 5 columns):\n",
      " #   Column   Non-Null Count   Dtype  \n",
      "---  ------   --------------   -----  \n",
      " 0   id       100000 non-null  object \n",
      " 1   f0       100000 non-null  float64\n",
      " 2   f1       100000 non-null  float64\n",
      " 3   f2       100000 non-null  float64\n",
      " 4   product  100000 non-null  float64\n",
      "dtypes: float64(4), object(1)\n",
      "memory usage: 3.8+ MB\n"
     ]
    }
   ],
   "source": [
    "site1.info()"
   ]
  },
  {
   "cell_type": "code",
   "execution_count": 4,
   "metadata": {},
   "outputs": [
    {
     "data": {
      "text/plain": [
       "id         0\n",
       "f0         0\n",
       "f1         0\n",
       "f2         0\n",
       "product    0\n",
       "dtype: int64"
      ]
     },
     "execution_count": 4,
     "metadata": {},
     "output_type": "execute_result"
    }
   ],
   "source": [
    "#check for empty column values\n",
    "site1.isna().sum()"
   ]
  },
  {
   "cell_type": "code",
   "execution_count": 5,
   "metadata": {},
   "outputs": [
    {
     "name": "stdout",
     "output_type": "stream",
     "text": [
      "10\n"
     ]
    }
   ],
   "source": [
    "#check for duplicates \n",
    "print(site1['id'].duplicated().sum())"
   ]
  },
  {
   "cell_type": "code",
   "execution_count": 6,
   "metadata": {},
   "outputs": [
    {
     "data": {
      "text/plain": [
       "Index(['id', 'f0', 'f1', 'f2', 'product'], dtype='object')"
      ]
     },
     "execution_count": 6,
     "metadata": {},
     "output_type": "execute_result"
    }
   ],
   "source": [
    "#confirm correct column names \n",
    "site1.columns"
   ]
  },
  {
   "cell_type": "code",
   "execution_count": 7,
   "metadata": {},
   "outputs": [
    {
     "name": "stdout",
     "output_type": "stream",
     "text": [
      "0\n"
     ]
    }
   ],
   "source": [
    "# Drop duplicates in the DataFrame itself\n",
    "site1 = site1.drop_duplicates(subset=['id'])\n",
    "\n",
    "# Confirm duplicates were dropped\n",
    "print(site1['id'].duplicated().sum())  "
   ]
  },
  {
   "cell_type": "code",
   "execution_count": 8,
   "metadata": {},
   "outputs": [
    {
     "name": "stdout",
     "output_type": "stream",
     "text": [
      "(99990, 5)\n",
      "Index(['id', 'f0', 'f1', 'f2', 'product'], dtype='object')\n"
     ]
    }
   ],
   "source": [
    "print(site1.shape)\n",
    "print(site1.columns)"
   ]
  },
  {
   "cell_type": "code",
   "execution_count": 9,
   "metadata": {},
   "outputs": [
    {
     "data": {
      "text/html": [
       "<div>\n",
       "<style scoped>\n",
       "    .dataframe tbody tr th:only-of-type {\n",
       "        vertical-align: middle;\n",
       "    }\n",
       "\n",
       "    .dataframe tbody tr th {\n",
       "        vertical-align: top;\n",
       "    }\n",
       "\n",
       "    .dataframe thead th {\n",
       "        text-align: right;\n",
       "    }\n",
       "</style>\n",
       "<table border=\"1\" class=\"dataframe\">\n",
       "  <thead>\n",
       "    <tr style=\"text-align: right;\">\n",
       "      <th></th>\n",
       "      <th>id</th>\n",
       "      <th>f0</th>\n",
       "      <th>f1</th>\n",
       "      <th>f2</th>\n",
       "      <th>product</th>\n",
       "    </tr>\n",
       "  </thead>\n",
       "  <tbody>\n",
       "    <tr>\n",
       "      <th>0</th>\n",
       "      <td>kBEdx</td>\n",
       "      <td>-15.001348</td>\n",
       "      <td>-8.276000</td>\n",
       "      <td>-0.005876</td>\n",
       "      <td>3.179103</td>\n",
       "    </tr>\n",
       "    <tr>\n",
       "      <th>1</th>\n",
       "      <td>62mP7</td>\n",
       "      <td>14.272088</td>\n",
       "      <td>-3.475083</td>\n",
       "      <td>0.999183</td>\n",
       "      <td>26.953261</td>\n",
       "    </tr>\n",
       "    <tr>\n",
       "      <th>2</th>\n",
       "      <td>vyE1P</td>\n",
       "      <td>6.263187</td>\n",
       "      <td>-5.948386</td>\n",
       "      <td>5.001160</td>\n",
       "      <td>134.766305</td>\n",
       "    </tr>\n",
       "  </tbody>\n",
       "</table>\n",
       "</div>"
      ],
      "text/plain": [
       "      id         f0        f1        f2     product\n",
       "0  kBEdx -15.001348 -8.276000 -0.005876    3.179103\n",
       "1  62mP7  14.272088 -3.475083  0.999183   26.953261\n",
       "2  vyE1P   6.263187 -5.948386  5.001160  134.766305"
      ]
     },
     "execution_count": 9,
     "metadata": {},
     "output_type": "execute_result"
    }
   ],
   "source": [
    "site2=pd.read_csv('/datasets/geo_data_1.csv')\n",
    "site2.head(3)"
   ]
  },
  {
   "cell_type": "code",
   "execution_count": 10,
   "metadata": {},
   "outputs": [
    {
     "name": "stdout",
     "output_type": "stream",
     "text": [
      "<class 'pandas.core.frame.DataFrame'>\n",
      "RangeIndex: 100000 entries, 0 to 99999\n",
      "Data columns (total 5 columns):\n",
      " #   Column   Non-Null Count   Dtype  \n",
      "---  ------   --------------   -----  \n",
      " 0   id       100000 non-null  object \n",
      " 1   f0       100000 non-null  float64\n",
      " 2   f1       100000 non-null  float64\n",
      " 3   f2       100000 non-null  float64\n",
      " 4   product  100000 non-null  float64\n",
      "dtypes: float64(4), object(1)\n",
      "memory usage: 3.8+ MB\n"
     ]
    }
   ],
   "source": [
    "site2.info()"
   ]
  },
  {
   "cell_type": "code",
   "execution_count": 11,
   "metadata": {},
   "outputs": [
    {
     "name": "stdout",
     "output_type": "stream",
     "text": [
      "      id         f0        f1        f2     product\n",
      "0  kBEdx -15.001348 -8.276000 -0.005876    3.179103\n",
      "1  62mP7  14.272088 -3.475083  0.999183   26.953261\n",
      "2  vyE1P   6.263187 -5.948386  5.001160  134.766305\n"
     ]
    }
   ],
   "source": [
    "print(site2.head(3))"
   ]
  },
  {
   "cell_type": "code",
   "execution_count": 12,
   "metadata": {},
   "outputs": [
    {
     "data": {
      "text/plain": [
       "id         0\n",
       "f0         0\n",
       "f1         0\n",
       "f2         0\n",
       "product    0\n",
       "dtype: int64"
      ]
     },
     "execution_count": 12,
     "metadata": {},
     "output_type": "execute_result"
    }
   ],
   "source": [
    "site2.isna().sum()"
   ]
  },
  {
   "cell_type": "code",
   "execution_count": 13,
   "metadata": {},
   "outputs": [
    {
     "data": {
      "text/plain": [
       "0"
      ]
     },
     "execution_count": 13,
     "metadata": {},
     "output_type": "execute_result"
    }
   ],
   "source": [
    "site2.duplicated().sum()"
   ]
  },
  {
   "cell_type": "code",
   "execution_count": 14,
   "metadata": {},
   "outputs": [
    {
     "data": {
      "text/plain": [
       "(100000, 5)"
      ]
     },
     "execution_count": 14,
     "metadata": {},
     "output_type": "execute_result"
    }
   ],
   "source": [
    "site2.shape"
   ]
  },
  {
   "cell_type": "code",
   "execution_count": 15,
   "metadata": {},
   "outputs": [
    {
     "data": {
      "text/html": [
       "<div>\n",
       "<style scoped>\n",
       "    .dataframe tbody tr th:only-of-type {\n",
       "        vertical-align: middle;\n",
       "    }\n",
       "\n",
       "    .dataframe tbody tr th {\n",
       "        vertical-align: top;\n",
       "    }\n",
       "\n",
       "    .dataframe thead th {\n",
       "        text-align: right;\n",
       "    }\n",
       "</style>\n",
       "<table border=\"1\" class=\"dataframe\">\n",
       "  <thead>\n",
       "    <tr style=\"text-align: right;\">\n",
       "      <th></th>\n",
       "      <th>id</th>\n",
       "      <th>f0</th>\n",
       "      <th>f1</th>\n",
       "      <th>f2</th>\n",
       "      <th>product</th>\n",
       "    </tr>\n",
       "  </thead>\n",
       "  <tbody>\n",
       "    <tr>\n",
       "      <th>0</th>\n",
       "      <td>fwXo0</td>\n",
       "      <td>-1.146987</td>\n",
       "      <td>0.963328</td>\n",
       "      <td>-0.828965</td>\n",
       "      <td>27.758673</td>\n",
       "    </tr>\n",
       "    <tr>\n",
       "      <th>1</th>\n",
       "      <td>WJtFt</td>\n",
       "      <td>0.262778</td>\n",
       "      <td>0.269839</td>\n",
       "      <td>-2.530187</td>\n",
       "      <td>56.069697</td>\n",
       "    </tr>\n",
       "    <tr>\n",
       "      <th>2</th>\n",
       "      <td>ovLUW</td>\n",
       "      <td>0.194587</td>\n",
       "      <td>0.289035</td>\n",
       "      <td>-5.586433</td>\n",
       "      <td>62.871910</td>\n",
       "    </tr>\n",
       "  </tbody>\n",
       "</table>\n",
       "</div>"
      ],
      "text/plain": [
       "      id        f0        f1        f2    product\n",
       "0  fwXo0 -1.146987  0.963328 -0.828965  27.758673\n",
       "1  WJtFt  0.262778  0.269839 -2.530187  56.069697\n",
       "2  ovLUW  0.194587  0.289035 -5.586433  62.871910"
      ]
     },
     "execution_count": 15,
     "metadata": {},
     "output_type": "execute_result"
    }
   ],
   "source": [
    "site3=pd.read_csv('/datasets/geo_data_2.csv')\n",
    "site3.head(3)"
   ]
  },
  {
   "cell_type": "code",
   "execution_count": 16,
   "metadata": {},
   "outputs": [
    {
     "name": "stdout",
     "output_type": "stream",
     "text": [
      "<class 'pandas.core.frame.DataFrame'>\n",
      "RangeIndex: 100000 entries, 0 to 99999\n",
      "Data columns (total 5 columns):\n",
      " #   Column   Non-Null Count   Dtype  \n",
      "---  ------   --------------   -----  \n",
      " 0   id       100000 non-null  object \n",
      " 1   f0       100000 non-null  float64\n",
      " 2   f1       100000 non-null  float64\n",
      " 3   f2       100000 non-null  float64\n",
      " 4   product  100000 non-null  float64\n",
      "dtypes: float64(4), object(1)\n",
      "memory usage: 3.8+ MB\n"
     ]
    }
   ],
   "source": [
    "site3.info()"
   ]
  },
  {
   "cell_type": "code",
   "execution_count": 17,
   "metadata": {},
   "outputs": [
    {
     "data": {
      "text/plain": [
       "id         0\n",
       "f0         0\n",
       "f1         0\n",
       "f2         0\n",
       "product    0\n",
       "dtype: int64"
      ]
     },
     "execution_count": 17,
     "metadata": {},
     "output_type": "execute_result"
    }
   ],
   "source": [
    "site3.isna().sum()"
   ]
  },
  {
   "cell_type": "code",
   "execution_count": 18,
   "metadata": {},
   "outputs": [
    {
     "data": {
      "text/plain": [
       "0"
      ]
     },
     "execution_count": 18,
     "metadata": {},
     "output_type": "execute_result"
    }
   ],
   "source": [
    "site3.duplicated().sum()"
   ]
  },
  {
   "cell_type": "code",
   "execution_count": 19,
   "metadata": {},
   "outputs": [
    {
     "data": {
      "text/plain": [
       "(100000, 5)"
      ]
     },
     "execution_count": 19,
     "metadata": {},
     "output_type": "execute_result"
    }
   ],
   "source": [
    "site3.shape"
   ]
  },
  {
   "cell_type": "markdown",
   "metadata": {},
   "source": [
    "3. Profit calculation prep"
   ]
  },
  {
   "cell_type": "code",
   "execution_count": 20,
   "metadata": {},
   "outputs": [],
   "source": [
    "sites=[site1,site2,site3]\n"
   ]
  },
  {
   "cell_type": "markdown",
   "metadata": {},
   "source": [
    "for i in range(3):\n",
    "    sites[i] = sites[i].drop(['id'],axis=1)\n",
    "    display(sites[i])\n"
   ]
  },
  {
   "cell_type": "markdown",
   "metadata": {},
   "source": [
    "Confirmed that cleared each dataframe of \"id\" column. "
   ]
  },
  {
   "cell_type": "code",
   "execution_count": 21,
   "metadata": {
    "scrolled": true
   },
   "outputs": [
    {
     "name": "stdout",
     "output_type": "stream",
     "text": [
      "Break-even volume needed: 22222.222222222223\n",
      "Average volume required per well to break-even: 111.11111111111111\n"
     ]
    }
   ],
   "source": [
    "#define variables from source data \n",
    "revenue_per_thousand_barrels = 100000000 \n",
    "revenue_per_well = 4500 \n",
    "wells=200\n",
    "\n",
    "# Calculate break-even volume\n",
    "break_even_volume = revenue_per_thousand_barrels/revenue_per_well\n",
    "\n",
    "#calculate average break-even volume for each well\n",
    "average_vol_each_well= break_even_volume/wells\n",
    "\n",
    "print(f'Break-even volume needed: {break_even_volume}')\n",
    "print(f'Average volume required per well to break-even: {average_vol_each_well}')\n",
    "\n"
   ]
  },
  {
   "cell_type": "markdown",
   "metadata": {},
   "source": [
    "4. Write functions to calculate profit, bootstrap, and rmse from a set of selected oil wells and model predictions:"
   ]
  },
  {
   "cell_type": "markdown",
   "metadata": {},
   "source": [
    "<div class=\"alert alert-block alert-success\">\n",
    "<b>Reviewer's comment</b> <a class=\"tocSkip\"></a>\n",
    "Success. This snippet accurately calculates the break-even volume and the average volume required per well to break even. The use of constants like revenue_per_thousand_barrels and revenue_per_well ensures clarity and maintains scalability for future changes.\n",
    "</div>\n"
   ]
  },
  {
   "cell_type": "code",
   "execution_count": 22,
   "metadata": {},
   "outputs": [],
   "source": [
    "def profit_calculation(target, predictions, count):\n",
    "    # Sort predictions in descending order\n",
    "    probs_sorted = predictions.sort_values(ascending=False)    \n",
    "    # Select top 'count' values using valid indices\n",
    "    selected = target[probs_sorted.index][:count]\n",
    "    return revenue_per_well * selected.sum() - revenue_per_thousand_barrels\n"
   ]
  },
  {
   "cell_type": "code",
   "execution_count": 23,
   "metadata": {},
   "outputs": [],
   "source": [
    "#rmse calculation \n",
    "def calculate_rmse(true_values, predicted_values):\n",
    "    return np.sqrt(mean_squared_error(true_values, predicted_values))"
   ]
  },
  {
   "cell_type": "code",
   "execution_count": 24,
   "metadata": {},
   "outputs": [],
   "source": [
    "#from \n",
    "def bootstrap_profit(valid, predictions, wells, profit_calculation, n_samples=1000, random_state=None):\n",
    "    values = []\n",
    "    assert (valid.index == predictions.index).all()\n",
    "    for _ in range(n_samples):\n",
    "        target_ranked = valid['product'].sample(n=500, replace=True, random_state=12345)\n",
    "        probability_ranked = predictions.iloc[target_ranked.index]      \n",
    "        values.append(profit_calculation(target_ranked, probability_ranked, wells))\n",
    "\n",
    "    values = pd.Series(values)\n",
    "    return {\n",
    "        'mean': values.mean(),\n",
    "        'low_quantile': values.quantile(0.025),\n",
    "        'high_quantile': values.quantile(0.975),\n",
    "        'risk_of_loss': (values < 0).mean() * 100\n",
    "    }"
   ]
  },
  {
   "cell_type": "code",
   "execution_count": 25,
   "metadata": {},
   "outputs": [],
   "source": [
    "#profit computation \n",
    "def calculate_profit(valid, predictions, wells, profit_calculation):\n",
    "    return profit_calculation(valid['product'], predictions, wells)"
   ]
  },
  {
   "cell_type": "markdown",
   "metadata": {},
   "source": [
    "5. Calculate risk and profit for each region "
   ]
  },
  {
   "cell_type": "code",
   "execution_count": 26,
   "metadata": {},
   "outputs": [
    {
     "data": {
      "text/html": [
       "<div>\n",
       "<style scoped>\n",
       "    .dataframe tbody tr th:only-of-type {\n",
       "        vertical-align: middle;\n",
       "    }\n",
       "\n",
       "    .dataframe tbody tr th {\n",
       "        vertical-align: top;\n",
       "    }\n",
       "\n",
       "    .dataframe thead th {\n",
       "        text-align: right;\n",
       "    }\n",
       "</style>\n",
       "<table border=\"1\" class=\"dataframe\">\n",
       "  <thead>\n",
       "    <tr style=\"text-align: right;\">\n",
       "      <th></th>\n",
       "      <th>f0</th>\n",
       "      <th>f1</th>\n",
       "      <th>f2</th>\n",
       "      <th>product</th>\n",
       "    </tr>\n",
       "  </thead>\n",
       "  <tbody>\n",
       "    <tr>\n",
       "      <th>0</th>\n",
       "      <td>0.705745</td>\n",
       "      <td>-0.497823</td>\n",
       "      <td>1.221170</td>\n",
       "      <td>105.280062</td>\n",
       "    </tr>\n",
       "    <tr>\n",
       "      <th>1</th>\n",
       "      <td>1.334711</td>\n",
       "      <td>-0.340164</td>\n",
       "      <td>4.365080</td>\n",
       "      <td>73.037750</td>\n",
       "    </tr>\n",
       "    <tr>\n",
       "      <th>2</th>\n",
       "      <td>1.022732</td>\n",
       "      <td>0.151990</td>\n",
       "      <td>1.419926</td>\n",
       "      <td>85.265647</td>\n",
       "    </tr>\n",
       "    <tr>\n",
       "      <th>3</th>\n",
       "      <td>-0.032172</td>\n",
       "      <td>0.139033</td>\n",
       "      <td>2.978566</td>\n",
       "      <td>168.620776</td>\n",
       "    </tr>\n",
       "    <tr>\n",
       "      <th>4</th>\n",
       "      <td>1.988431</td>\n",
       "      <td>0.155413</td>\n",
       "      <td>4.751769</td>\n",
       "      <td>154.036647</td>\n",
       "    </tr>\n",
       "    <tr>\n",
       "      <th>...</th>\n",
       "      <td>...</td>\n",
       "      <td>...</td>\n",
       "      <td>...</td>\n",
       "      <td>...</td>\n",
       "    </tr>\n",
       "    <tr>\n",
       "      <th>99995</th>\n",
       "      <td>0.971957</td>\n",
       "      <td>0.370953</td>\n",
       "      <td>6.075346</td>\n",
       "      <td>110.744026</td>\n",
       "    </tr>\n",
       "    <tr>\n",
       "      <th>99996</th>\n",
       "      <td>1.392429</td>\n",
       "      <td>-0.382606</td>\n",
       "      <td>1.273912</td>\n",
       "      <td>122.346843</td>\n",
       "    </tr>\n",
       "    <tr>\n",
       "      <th>99997</th>\n",
       "      <td>1.029585</td>\n",
       "      <td>0.018787</td>\n",
       "      <td>-1.348308</td>\n",
       "      <td>64.375443</td>\n",
       "    </tr>\n",
       "    <tr>\n",
       "      <th>99998</th>\n",
       "      <td>0.998163</td>\n",
       "      <td>-0.528582</td>\n",
       "      <td>1.583869</td>\n",
       "      <td>74.040764</td>\n",
       "    </tr>\n",
       "    <tr>\n",
       "      <th>99999</th>\n",
       "      <td>1.764754</td>\n",
       "      <td>-0.266417</td>\n",
       "      <td>5.722849</td>\n",
       "      <td>149.633246</td>\n",
       "    </tr>\n",
       "  </tbody>\n",
       "</table>\n",
       "<p>99990 rows × 4 columns</p>\n",
       "</div>"
      ],
      "text/plain": [
       "             f0        f1        f2     product\n",
       "0      0.705745 -0.497823  1.221170  105.280062\n",
       "1      1.334711 -0.340164  4.365080   73.037750\n",
       "2      1.022732  0.151990  1.419926   85.265647\n",
       "3     -0.032172  0.139033  2.978566  168.620776\n",
       "4      1.988431  0.155413  4.751769  154.036647\n",
       "...         ...       ...       ...         ...\n",
       "99995  0.971957  0.370953  6.075346  110.744026\n",
       "99996  1.392429 -0.382606  1.273912  122.346843\n",
       "99997  1.029585  0.018787 -1.348308   64.375443\n",
       "99998  0.998163 -0.528582  1.583869   74.040764\n",
       "99999  1.764754 -0.266417  5.722849  149.633246\n",
       "\n",
       "[99990 rows x 4 columns]"
      ]
     },
     "metadata": {},
     "output_type": "display_data"
    },
    {
     "name": "stdout",
     "output_type": "stream",
     "text": [
      "Information for Site 0\n",
      "RMSE: 37.853643189399115\n",
      "Predicted Reserves Average Volume: 92.7894653773364\n",
      "Profit: 33651872.37700285\n",
      "Average profit: 7513523.9304731935\n",
      "2.5% quantile: 7513523.9304731935\n",
      "97.5% quantile: 7513523.9304731935\n",
      "Risk of loss: 0.0 %\n",
      "******************************************************************\n",
      "\n"
     ]
    },
    {
     "data": {
      "text/html": [
       "<div>\n",
       "<style scoped>\n",
       "    .dataframe tbody tr th:only-of-type {\n",
       "        vertical-align: middle;\n",
       "    }\n",
       "\n",
       "    .dataframe tbody tr th {\n",
       "        vertical-align: top;\n",
       "    }\n",
       "\n",
       "    .dataframe thead th {\n",
       "        text-align: right;\n",
       "    }\n",
       "</style>\n",
       "<table border=\"1\" class=\"dataframe\">\n",
       "  <thead>\n",
       "    <tr style=\"text-align: right;\">\n",
       "      <th></th>\n",
       "      <th>f0</th>\n",
       "      <th>f1</th>\n",
       "      <th>f2</th>\n",
       "      <th>product</th>\n",
       "    </tr>\n",
       "  </thead>\n",
       "  <tbody>\n",
       "    <tr>\n",
       "      <th>0</th>\n",
       "      <td>-15.001348</td>\n",
       "      <td>-8.276000</td>\n",
       "      <td>-0.005876</td>\n",
       "      <td>3.179103</td>\n",
       "    </tr>\n",
       "    <tr>\n",
       "      <th>1</th>\n",
       "      <td>14.272088</td>\n",
       "      <td>-3.475083</td>\n",
       "      <td>0.999183</td>\n",
       "      <td>26.953261</td>\n",
       "    </tr>\n",
       "    <tr>\n",
       "      <th>2</th>\n",
       "      <td>6.263187</td>\n",
       "      <td>-5.948386</td>\n",
       "      <td>5.001160</td>\n",
       "      <td>134.766305</td>\n",
       "    </tr>\n",
       "    <tr>\n",
       "      <th>3</th>\n",
       "      <td>-13.081196</td>\n",
       "      <td>-11.506057</td>\n",
       "      <td>4.999415</td>\n",
       "      <td>137.945408</td>\n",
       "    </tr>\n",
       "    <tr>\n",
       "      <th>4</th>\n",
       "      <td>12.702195</td>\n",
       "      <td>-8.147433</td>\n",
       "      <td>5.004363</td>\n",
       "      <td>134.766305</td>\n",
       "    </tr>\n",
       "    <tr>\n",
       "      <th>...</th>\n",
       "      <td>...</td>\n",
       "      <td>...</td>\n",
       "      <td>...</td>\n",
       "      <td>...</td>\n",
       "    </tr>\n",
       "    <tr>\n",
       "      <th>99995</th>\n",
       "      <td>9.535637</td>\n",
       "      <td>-6.878139</td>\n",
       "      <td>1.998296</td>\n",
       "      <td>53.906522</td>\n",
       "    </tr>\n",
       "    <tr>\n",
       "      <th>99996</th>\n",
       "      <td>-10.160631</td>\n",
       "      <td>-12.558096</td>\n",
       "      <td>5.005581</td>\n",
       "      <td>137.945408</td>\n",
       "    </tr>\n",
       "    <tr>\n",
       "      <th>99997</th>\n",
       "      <td>-7.378891</td>\n",
       "      <td>-3.084104</td>\n",
       "      <td>4.998651</td>\n",
       "      <td>137.945408</td>\n",
       "    </tr>\n",
       "    <tr>\n",
       "      <th>99998</th>\n",
       "      <td>0.665714</td>\n",
       "      <td>-6.152593</td>\n",
       "      <td>1.000146</td>\n",
       "      <td>30.132364</td>\n",
       "    </tr>\n",
       "    <tr>\n",
       "      <th>99999</th>\n",
       "      <td>-3.426139</td>\n",
       "      <td>-7.794274</td>\n",
       "      <td>-0.003299</td>\n",
       "      <td>3.179103</td>\n",
       "    </tr>\n",
       "  </tbody>\n",
       "</table>\n",
       "<p>100000 rows × 4 columns</p>\n",
       "</div>"
      ],
      "text/plain": [
       "              f0         f1        f2     product\n",
       "0     -15.001348  -8.276000 -0.005876    3.179103\n",
       "1      14.272088  -3.475083  0.999183   26.953261\n",
       "2       6.263187  -5.948386  5.001160  134.766305\n",
       "3     -13.081196 -11.506057  4.999415  137.945408\n",
       "4      12.702195  -8.147433  5.004363  134.766305\n",
       "...          ...        ...       ...         ...\n",
       "99995   9.535637  -6.878139  1.998296   53.906522\n",
       "99996 -10.160631 -12.558096  5.005581  137.945408\n",
       "99997  -7.378891  -3.084104  4.998651  137.945408\n",
       "99998   0.665714  -6.152593  1.000146   30.132364\n",
       "99999  -3.426139  -7.794274 -0.003299    3.179103\n",
       "\n",
       "[100000 rows x 4 columns]"
      ]
     },
     "metadata": {},
     "output_type": "display_data"
    },
    {
     "name": "stdout",
     "output_type": "stream",
     "text": [
      "Information for Site 1\n",
      "RMSE: 0.8930659052625232\n",
      "Predicted Reserves Average Volume: 68.72849982676388\n",
      "Profit: 24150866.966815114\n",
      "Average profit: 2993593.720942274\n",
      "2.5% quantile: 2993593.7209422737\n",
      "97.5% quantile: 2993593.7209422737\n",
      "Risk of loss: 0.0 %\n",
      "******************************************************************\n",
      "\n"
     ]
    },
    {
     "data": {
      "text/html": [
       "<div>\n",
       "<style scoped>\n",
       "    .dataframe tbody tr th:only-of-type {\n",
       "        vertical-align: middle;\n",
       "    }\n",
       "\n",
       "    .dataframe tbody tr th {\n",
       "        vertical-align: top;\n",
       "    }\n",
       "\n",
       "    .dataframe thead th {\n",
       "        text-align: right;\n",
       "    }\n",
       "</style>\n",
       "<table border=\"1\" class=\"dataframe\">\n",
       "  <thead>\n",
       "    <tr style=\"text-align: right;\">\n",
       "      <th></th>\n",
       "      <th>f0</th>\n",
       "      <th>f1</th>\n",
       "      <th>f2</th>\n",
       "      <th>product</th>\n",
       "    </tr>\n",
       "  </thead>\n",
       "  <tbody>\n",
       "    <tr>\n",
       "      <th>0</th>\n",
       "      <td>-1.146987</td>\n",
       "      <td>0.963328</td>\n",
       "      <td>-0.828965</td>\n",
       "      <td>27.758673</td>\n",
       "    </tr>\n",
       "    <tr>\n",
       "      <th>1</th>\n",
       "      <td>0.262778</td>\n",
       "      <td>0.269839</td>\n",
       "      <td>-2.530187</td>\n",
       "      <td>56.069697</td>\n",
       "    </tr>\n",
       "    <tr>\n",
       "      <th>2</th>\n",
       "      <td>0.194587</td>\n",
       "      <td>0.289035</td>\n",
       "      <td>-5.586433</td>\n",
       "      <td>62.871910</td>\n",
       "    </tr>\n",
       "    <tr>\n",
       "      <th>3</th>\n",
       "      <td>2.236060</td>\n",
       "      <td>-0.553760</td>\n",
       "      <td>0.930038</td>\n",
       "      <td>114.572842</td>\n",
       "    </tr>\n",
       "    <tr>\n",
       "      <th>4</th>\n",
       "      <td>-0.515993</td>\n",
       "      <td>1.716266</td>\n",
       "      <td>5.899011</td>\n",
       "      <td>149.600746</td>\n",
       "    </tr>\n",
       "    <tr>\n",
       "      <th>...</th>\n",
       "      <td>...</td>\n",
       "      <td>...</td>\n",
       "      <td>...</td>\n",
       "      <td>...</td>\n",
       "    </tr>\n",
       "    <tr>\n",
       "      <th>99995</th>\n",
       "      <td>-1.777037</td>\n",
       "      <td>1.125220</td>\n",
       "      <td>6.263374</td>\n",
       "      <td>172.327046</td>\n",
       "    </tr>\n",
       "    <tr>\n",
       "      <th>99996</th>\n",
       "      <td>-1.261523</td>\n",
       "      <td>-0.894828</td>\n",
       "      <td>2.524545</td>\n",
       "      <td>138.748846</td>\n",
       "    </tr>\n",
       "    <tr>\n",
       "      <th>99997</th>\n",
       "      <td>-1.199934</td>\n",
       "      <td>-2.957637</td>\n",
       "      <td>5.219411</td>\n",
       "      <td>157.080080</td>\n",
       "    </tr>\n",
       "    <tr>\n",
       "      <th>99998</th>\n",
       "      <td>-2.419896</td>\n",
       "      <td>2.417221</td>\n",
       "      <td>-5.548444</td>\n",
       "      <td>51.795253</td>\n",
       "    </tr>\n",
       "    <tr>\n",
       "      <th>99999</th>\n",
       "      <td>-2.551421</td>\n",
       "      <td>-2.025625</td>\n",
       "      <td>6.090891</td>\n",
       "      <td>102.775767</td>\n",
       "    </tr>\n",
       "  </tbody>\n",
       "</table>\n",
       "<p>100000 rows × 4 columns</p>\n",
       "</div>"
      ],
      "text/plain": [
       "             f0        f1        f2     product\n",
       "0     -1.146987  0.963328 -0.828965   27.758673\n",
       "1      0.262778  0.269839 -2.530187   56.069697\n",
       "2      0.194587  0.289035 -5.586433   62.871910\n",
       "3      2.236060 -0.553760  0.930038  114.572842\n",
       "4     -0.515993  1.716266  5.899011  149.600746\n",
       "...         ...       ...       ...         ...\n",
       "99995 -1.777037  1.125220  6.263374  172.327046\n",
       "99996 -1.261523 -0.894828  2.524545  138.748846\n",
       "99997 -1.199934 -2.957637  5.219411  157.080080\n",
       "99998 -2.419896  2.417221 -5.548444   51.795253\n",
       "99999 -2.551421 -2.025625  6.090891  102.775767\n",
       "\n",
       "[100000 rows x 4 columns]"
      ]
     },
     "metadata": {},
     "output_type": "display_data"
    },
    {
     "name": "stdout",
     "output_type": "stream",
     "text": [
      "Information for Site 2\n",
      "RMSE: 40.03003812274246\n",
      "Predicted Reserves Average Volume: 94.96522806982759\n",
      "Profit: 26887004.60222158\n",
      "Average profit: -950441.7713700086\n",
      "2.5% quantile: -950441.7713700086\n",
      "97.5% quantile: -950441.7713700086\n",
      "Risk of loss: 100.0 %\n",
      "******************************************************************\n",
      "\n"
     ]
    }
   ],
   "source": [
    "for i, site in enumerate(sites):\n",
    "    #drop unnecessary column 'id'\n",
    "    site = site.drop(columns=['id'])\n",
    "    display(site)\n",
    "    \n",
    "    train, valid = train_test_split(site, test_size=0.25, random_state=12345)\n",
    "    train = train.reset_index()\n",
    "    valid = valid.reset_index()\n",
    "\n",
    "    # Train model\n",
    "    model = LinearRegression()\n",
    "    model.fit(train.drop(['product'], axis=1), train['product'])\n",
    "    predictions = pd.Series(model.predict(valid.drop(['product'], axis=1)), index=valid.index)\n",
    "    \n",
    "    # assert valid.index == predictions.index\n",
    "\n",
    "    print(f'Information for Site {i}')\n",
    "\n",
    "    # Calculate and display RMSE\n",
    "    rmse = calculate_rmse(valid['product'], predictions)\n",
    "    print(f'RMSE:', rmse)\n",
    "\n",
    "    # Average predicted reserves\n",
    "    average = predictions.mean()\n",
    "    print(f'Predicted Reserves Average Volume:', average)\n",
    "\n",
    "    # Calculate and display profit\n",
    "    profit = calculate_profit(valid, predictions, wells, profit_calculation)\n",
    "    print(f'Profit: {profit}')\n",
    "\n",
    "    # Bootstrap analysis\n",
    "    stats = bootstrap_profit(valid, predictions, wells, profit_calculation, n_samples=1000, random_state=12345)\n",
    "    print(f'Average profit:', stats['mean'])\n",
    "    print(f'2.5% quantile:', stats['low_quantile'])\n",
    "    print(f'97.5% quantile:', stats['high_quantile'])\n",
    "    print(f'Risk of loss:', stats['risk_of_loss'], '%')\n",
    "    print('******************************************************************')\n",
    "    print()\n"
   ]
  },
  {
   "cell_type": "markdown",
   "metadata": {},
   "source": [
    "Project Summary \n",
    "\n",
    "Cleaning of each dataframe had to be performed independently.  Once completed tasks could be grouped together.  Each dataframe needed the \"id\" column dropped before running through the model.  All other tasks were able to be placed in a loop where each dataframe was looped through. \n",
    "\n",
    "In order to break-even 22,222.22 barrels of oil need to be generated at a site.  Average volume required per well to break-even is 111.11 barrells. \n",
    "\n",
    "Site 1 has the lowest risk of loss among all the evaluated sites.  Site 1 has the largest average profit at 5 million dollars.  Site 1 is also the only site where the lower quantile is a positive number.  It is notebwrothy that Site 1 has the lowest predicted average volume of reserves by almost 30 barrels.  However Site 1 remains the best business decision because its extreme low risk of failure.  The expected 24 million dollars generation from this site could fund exploration of sites besides site 0 and site 2 for Oily Giant.   "
   ]
  }
 ],
 "metadata": {
  "ExecuteTimeLog": [
   {
    "duration": 2672,
    "start_time": "2024-12-06T17:52:36.132Z"
   },
   {
    "duration": 581,
    "start_time": "2024-12-06T17:52:38.807Z"
   },
   {
    "duration": 65,
    "start_time": "2024-12-06T17:53:02.342Z"
   },
   {
    "duration": 61,
    "start_time": "2024-12-06T17:53:09.734Z"
   },
   {
    "duration": 139,
    "start_time": "2024-12-06T17:53:19.782Z"
   },
   {
    "duration": 61,
    "start_time": "2024-12-06T17:53:23.087Z"
   },
   {
    "duration": 4,
    "start_time": "2024-12-06T17:55:42.694Z"
   },
   {
    "duration": 60,
    "start_time": "2024-12-06T17:55:46.880Z"
   },
   {
    "duration": 1192,
    "start_time": "2024-12-06T17:56:26.512Z"
   },
   {
    "duration": 625,
    "start_time": "2024-12-06T17:56:27.706Z"
   },
   {
    "duration": 166,
    "start_time": "2024-12-06T21:34:51.002Z"
   },
   {
    "duration": 2716,
    "start_time": "2024-12-06T21:35:00.897Z"
   },
   {
    "duration": 447,
    "start_time": "2024-12-06T21:35:03.615Z"
   },
   {
    "duration": 60,
    "start_time": "2024-12-06T21:35:16.610Z"
   },
   {
    "duration": 114,
    "start_time": "2024-12-06T21:35:30.410Z"
   },
   {
    "duration": 79,
    "start_time": "2024-12-06T21:35:55.033Z"
   },
   {
    "duration": 82,
    "start_time": "2024-12-06T21:36:10.453Z"
   },
   {
    "duration": 81,
    "start_time": "2024-12-06T21:38:26.778Z"
   },
   {
    "duration": 106,
    "start_time": "2024-12-06T21:38:49.373Z"
   },
   {
    "duration": 108,
    "start_time": "2024-12-06T21:39:29.497Z"
   },
   {
    "duration": 12,
    "start_time": "2024-12-06T21:46:15.338Z"
   },
   {
    "duration": 9,
    "start_time": "2024-12-06T21:47:51.192Z"
   },
   {
    "duration": 440,
    "start_time": "2024-12-06T21:50:41.606Z"
   },
   {
    "duration": 14,
    "start_time": "2024-12-06T21:50:54.978Z"
   },
   {
    "duration": 18,
    "start_time": "2024-12-06T21:52:00.136Z"
   },
   {
    "duration": 2663,
    "start_time": "2024-12-07T00:07:34.260Z"
   },
   {
    "duration": 112,
    "start_time": "2024-12-07T00:07:36.926Z"
   },
   {
    "duration": 14,
    "start_time": "2024-12-07T00:07:37.039Z"
   },
   {
    "duration": 10,
    "start_time": "2024-12-07T00:07:37.055Z"
   },
   {
    "duration": 26,
    "start_time": "2024-12-07T00:07:37.067Z"
   },
   {
    "duration": 19,
    "start_time": "2024-12-07T00:07:46.255Z"
   },
   {
    "duration": 133,
    "start_time": "2024-12-07T00:07:59.808Z"
   },
   {
    "duration": 21,
    "start_time": "2024-12-07T00:08:06.791Z"
   },
   {
    "duration": 53,
    "start_time": "2024-12-07T00:11:11.556Z"
   },
   {
    "duration": 948,
    "start_time": "2024-12-07T00:11:37.726Z"
   },
   {
    "duration": 89,
    "start_time": "2024-12-07T00:11:38.676Z"
   },
   {
    "duration": 11,
    "start_time": "2024-12-07T00:11:38.766Z"
   },
   {
    "duration": 9,
    "start_time": "2024-12-07T00:11:38.786Z"
   },
   {
    "duration": 10,
    "start_time": "2024-12-07T00:11:38.796Z"
   },
   {
    "duration": 44,
    "start_time": "2024-12-07T00:11:38.808Z"
   },
   {
    "duration": 249,
    "start_time": "2024-12-07T00:11:38.854Z"
   },
   {
    "duration": 0,
    "start_time": "2024-12-07T00:11:39.104Z"
   },
   {
    "duration": 0,
    "start_time": "2024-12-07T00:11:39.106Z"
   },
   {
    "duration": 0,
    "start_time": "2024-12-07T00:11:39.107Z"
   },
   {
    "duration": 4,
    "start_time": "2024-12-07T00:12:37.799Z"
   },
   {
    "duration": 706,
    "start_time": "2024-12-07T00:13:04.715Z"
   },
   {
    "duration": 35,
    "start_time": "2024-12-07T00:13:21.482Z"
   },
   {
    "duration": 35,
    "start_time": "2024-12-07T00:20:54.914Z"
   },
   {
    "duration": 84,
    "start_time": "2024-12-07T00:23:59.546Z"
   },
   {
    "duration": 4,
    "start_time": "2024-12-07T00:24:26.726Z"
   },
   {
    "duration": 98,
    "start_time": "2024-12-07T00:24:26.732Z"
   },
   {
    "duration": 11,
    "start_time": "2024-12-07T00:24:26.832Z"
   },
   {
    "duration": 8,
    "start_time": "2024-12-07T00:24:26.844Z"
   },
   {
    "duration": 9,
    "start_time": "2024-12-07T00:24:26.854Z"
   },
   {
    "duration": 44,
    "start_time": "2024-12-07T00:24:26.887Z"
   },
   {
    "duration": 5,
    "start_time": "2024-12-07T00:24:33.397Z"
   },
   {
    "duration": 49,
    "start_time": "2024-12-07T00:27:57.490Z"
   },
   {
    "duration": 27,
    "start_time": "2024-12-07T00:28:36.749Z"
   },
   {
    "duration": 27,
    "start_time": "2024-12-07T00:34:04.975Z"
   },
   {
    "duration": 25,
    "start_time": "2024-12-07T00:36:14.334Z"
   },
   {
    "duration": 14,
    "start_time": "2024-12-07T00:39:05.376Z"
   },
   {
    "duration": 4,
    "start_time": "2024-12-07T00:39:11.255Z"
   },
   {
    "duration": 959,
    "start_time": "2024-12-07T00:39:41.345Z"
   },
   {
    "duration": 83,
    "start_time": "2024-12-07T00:39:42.306Z"
   },
   {
    "duration": 11,
    "start_time": "2024-12-07T00:39:42.391Z"
   },
   {
    "duration": 8,
    "start_time": "2024-12-07T00:39:42.404Z"
   },
   {
    "duration": 9,
    "start_time": "2024-12-07T00:39:42.415Z"
   },
   {
    "duration": 3,
    "start_time": "2024-12-07T00:39:42.426Z"
   },
   {
    "duration": 21,
    "start_time": "2024-12-07T00:39:42.432Z"
   },
   {
    "duration": 7,
    "start_time": "2024-12-07T00:39:58.313Z"
   },
   {
    "duration": 925,
    "start_time": "2024-12-07T00:40:10.322Z"
   },
   {
    "duration": 35,
    "start_time": "2024-12-07T00:40:28.635Z"
   },
   {
    "duration": 4,
    "start_time": "2024-12-07T00:40:45.301Z"
   },
   {
    "duration": 81,
    "start_time": "2024-12-07T00:40:45.307Z"
   },
   {
    "duration": 11,
    "start_time": "2024-12-07T00:40:45.390Z"
   },
   {
    "duration": 8,
    "start_time": "2024-12-07T00:40:45.402Z"
   },
   {
    "duration": 9,
    "start_time": "2024-12-07T00:40:45.413Z"
   },
   {
    "duration": 4,
    "start_time": "2024-12-07T00:40:45.423Z"
   },
   {
    "duration": 19,
    "start_time": "2024-12-07T00:40:45.429Z"
   },
   {
    "duration": 8,
    "start_time": "2024-12-07T00:40:49.163Z"
   },
   {
    "duration": 103,
    "start_time": "2024-12-07T00:41:08.262Z"
   },
   {
    "duration": 9,
    "start_time": "2024-12-07T00:41:54.330Z"
   },
   {
    "duration": 7,
    "start_time": "2024-12-07T00:42:17.579Z"
   },
   {
    "duration": 14,
    "start_time": "2024-12-07T00:42:25.666Z"
   },
   {
    "duration": 13,
    "start_time": "2024-12-07T00:42:35.434Z"
   },
   {
    "duration": 5,
    "start_time": "2024-12-07T00:43:04.725Z"
   },
   {
    "duration": 8,
    "start_time": "2024-12-07T00:43:10.216Z"
   },
   {
    "duration": 9,
    "start_time": "2024-12-07T00:43:24.222Z"
   },
   {
    "duration": 25,
    "start_time": "2024-12-07T00:43:38.057Z"
   },
   {
    "duration": 101,
    "start_time": "2024-12-07T00:46:58.942Z"
   },
   {
    "duration": 12,
    "start_time": "2024-12-07T00:47:07.721Z"
   },
   {
    "duration": 14,
    "start_time": "2024-12-07T00:47:25.477Z"
   },
   {
    "duration": 9,
    "start_time": "2024-12-07T00:47:37.270Z"
   },
   {
    "duration": 31,
    "start_time": "2024-12-07T00:48:04.674Z"
   },
   {
    "duration": 14,
    "start_time": "2024-12-07T00:48:18.362Z"
   },
   {
    "duration": 30,
    "start_time": "2024-12-07T00:48:24.123Z"
   },
   {
    "duration": 6,
    "start_time": "2024-12-07T00:50:09.466Z"
   },
   {
    "duration": 7,
    "start_time": "2024-12-07T00:50:25.135Z"
   },
   {
    "duration": 37,
    "start_time": "2024-12-07T00:50:50.721Z"
   },
   {
    "duration": 4,
    "start_time": "2024-12-07T00:51:15.704Z"
   },
   {
    "duration": 80,
    "start_time": "2024-12-07T00:51:15.710Z"
   },
   {
    "duration": 10,
    "start_time": "2024-12-07T00:51:15.792Z"
   },
   {
    "duration": 8,
    "start_time": "2024-12-07T00:51:15.804Z"
   },
   {
    "duration": 9,
    "start_time": "2024-12-07T00:51:15.813Z"
   },
   {
    "duration": 3,
    "start_time": "2024-12-07T00:51:15.825Z"
   },
   {
    "duration": 20,
    "start_time": "2024-12-07T00:51:15.830Z"
   },
   {
    "duration": 39,
    "start_time": "2024-12-07T00:51:15.852Z"
   },
   {
    "duration": 78,
    "start_time": "2024-12-07T00:51:15.892Z"
   },
   {
    "duration": 19,
    "start_time": "2024-12-07T00:51:15.973Z"
   },
   {
    "duration": 8,
    "start_time": "2024-12-07T00:51:15.993Z"
   },
   {
    "duration": 27,
    "start_time": "2024-12-07T00:51:16.003Z"
   },
   {
    "duration": 6,
    "start_time": "2024-12-07T00:51:16.032Z"
   },
   {
    "duration": 106,
    "start_time": "2024-12-07T00:51:16.040Z"
   },
   {
    "duration": 11,
    "start_time": "2024-12-07T00:51:16.148Z"
   },
   {
    "duration": 9,
    "start_time": "2024-12-07T00:51:16.160Z"
   },
   {
    "duration": 31,
    "start_time": "2024-12-07T00:51:16.186Z"
   },
   {
    "duration": 6,
    "start_time": "2024-12-07T00:51:20.841Z"
   },
   {
    "duration": 8,
    "start_time": "2024-12-07T00:53:47.315Z"
   },
   {
    "duration": 15,
    "start_time": "2024-12-07T01:02:27.648Z"
   },
   {
    "duration": 994,
    "start_time": "2024-12-07T01:02:39.984Z"
   },
   {
    "duration": 87,
    "start_time": "2024-12-07T01:02:40.980Z"
   },
   {
    "duration": 19,
    "start_time": "2024-12-07T01:02:41.068Z"
   },
   {
    "duration": 9,
    "start_time": "2024-12-07T01:02:41.088Z"
   },
   {
    "duration": 9,
    "start_time": "2024-12-07T01:02:41.100Z"
   },
   {
    "duration": 3,
    "start_time": "2024-12-07T01:02:41.112Z"
   },
   {
    "duration": 21,
    "start_time": "2024-12-07T01:02:41.116Z"
   },
   {
    "duration": 8,
    "start_time": "2024-12-07T01:02:41.140Z"
   },
   {
    "duration": 255,
    "start_time": "2024-12-07T01:02:41.150Z"
   },
   {
    "duration": 0,
    "start_time": "2024-12-07T01:02:41.407Z"
   },
   {
    "duration": 0,
    "start_time": "2024-12-07T01:02:41.410Z"
   },
   {
    "duration": 0,
    "start_time": "2024-12-07T01:02:41.414Z"
   },
   {
    "duration": 0,
    "start_time": "2024-12-07T01:02:41.415Z"
   },
   {
    "duration": 0,
    "start_time": "2024-12-07T01:02:41.416Z"
   },
   {
    "duration": 0,
    "start_time": "2024-12-07T01:02:41.417Z"
   },
   {
    "duration": 0,
    "start_time": "2024-12-07T01:02:41.418Z"
   },
   {
    "duration": 0,
    "start_time": "2024-12-07T01:02:41.419Z"
   },
   {
    "duration": 0,
    "start_time": "2024-12-07T01:02:41.420Z"
   },
   {
    "duration": 0,
    "start_time": "2024-12-07T01:02:41.421Z"
   },
   {
    "duration": 0,
    "start_time": "2024-12-07T01:02:41.422Z"
   },
   {
    "duration": 4,
    "start_time": "2024-12-07T01:02:49.065Z"
   },
   {
    "duration": 3,
    "start_time": "2024-12-07T01:03:21.251Z"
   },
   {
    "duration": 86,
    "start_time": "2024-12-07T01:03:21.256Z"
   },
   {
    "duration": 11,
    "start_time": "2024-12-07T01:03:21.344Z"
   },
   {
    "duration": 7,
    "start_time": "2024-12-07T01:03:21.357Z"
   },
   {
    "duration": 21,
    "start_time": "2024-12-07T01:03:21.367Z"
   },
   {
    "duration": 4,
    "start_time": "2024-12-07T01:03:21.390Z"
   },
   {
    "duration": 21,
    "start_time": "2024-12-07T01:03:21.395Z"
   },
   {
    "duration": 7,
    "start_time": "2024-12-07T01:03:21.418Z"
   },
   {
    "duration": 3,
    "start_time": "2024-12-07T01:03:21.427Z"
   },
   {
    "duration": 106,
    "start_time": "2024-12-07T01:03:21.432Z"
   },
   {
    "duration": 11,
    "start_time": "2024-12-07T01:03:21.540Z"
   },
   {
    "duration": 5,
    "start_time": "2024-12-07T01:03:21.552Z"
   },
   {
    "duration": 8,
    "start_time": "2024-12-07T01:03:21.558Z"
   },
   {
    "duration": 29,
    "start_time": "2024-12-07T01:03:21.587Z"
   },
   {
    "duration": 6,
    "start_time": "2024-12-07T01:03:21.618Z"
   },
   {
    "duration": 3,
    "start_time": "2024-12-07T01:03:21.626Z"
   },
   {
    "duration": 101,
    "start_time": "2024-12-07T01:03:21.631Z"
   },
   {
    "duration": 11,
    "start_time": "2024-12-07T01:03:21.733Z"
   },
   {
    "duration": 7,
    "start_time": "2024-12-07T01:03:21.745Z"
   },
   {
    "duration": 49,
    "start_time": "2024-12-07T01:03:21.754Z"
   },
   {
    "duration": 9,
    "start_time": "2024-12-07T01:03:21.805Z"
   },
   {
    "duration": 3,
    "start_time": "2024-12-07T01:03:28.348Z"
   },
   {
    "duration": 2648,
    "start_time": "2024-12-09T01:38:53.709Z"
   },
   {
    "duration": 110,
    "start_time": "2024-12-09T01:38:56.359Z"
   },
   {
    "duration": 12,
    "start_time": "2024-12-09T01:38:56.471Z"
   },
   {
    "duration": 8,
    "start_time": "2024-12-09T01:38:56.484Z"
   },
   {
    "duration": 8,
    "start_time": "2024-12-09T01:38:56.495Z"
   },
   {
    "duration": 4,
    "start_time": "2024-12-09T01:38:56.505Z"
   },
   {
    "duration": 21,
    "start_time": "2024-12-09T01:38:56.511Z"
   },
   {
    "duration": 7,
    "start_time": "2024-12-09T01:38:56.534Z"
   },
   {
    "duration": 4,
    "start_time": "2024-12-09T01:38:56.542Z"
   },
   {
    "duration": 4,
    "start_time": "2024-12-09T01:39:03.160Z"
   },
   {
    "duration": 8,
    "start_time": "2024-12-09T01:39:24.895Z"
   },
   {
    "duration": 277,
    "start_time": "2024-12-09T02:03:46.586Z"
   },
   {
    "duration": 3,
    "start_time": "2024-12-09T02:03:55.748Z"
   },
   {
    "duration": 5,
    "start_time": "2024-12-09T02:27:03.230Z"
   },
   {
    "duration": 84,
    "start_time": "2024-12-09T02:27:03.237Z"
   },
   {
    "duration": 11,
    "start_time": "2024-12-09T02:27:03.323Z"
   },
   {
    "duration": 8,
    "start_time": "2024-12-09T02:27:03.336Z"
   },
   {
    "duration": 9,
    "start_time": "2024-12-09T02:27:03.346Z"
   },
   {
    "duration": 5,
    "start_time": "2024-12-09T02:27:03.357Z"
   },
   {
    "duration": 44,
    "start_time": "2024-12-09T02:27:03.363Z"
   },
   {
    "duration": 7,
    "start_time": "2024-12-09T02:27:03.409Z"
   },
   {
    "duration": 4,
    "start_time": "2024-12-09T02:27:03.418Z"
   },
   {
    "duration": 8,
    "start_time": "2024-12-09T02:27:03.424Z"
   },
   {
    "duration": 5,
    "start_time": "2024-12-09T02:27:03.434Z"
   },
   {
    "duration": 16,
    "start_time": "2024-12-09T02:27:03.440Z"
   },
   {
    "duration": 0,
    "start_time": "2024-12-09T02:27:03.488Z"
   },
   {
    "duration": 0,
    "start_time": "2024-12-09T02:27:03.489Z"
   },
   {
    "duration": 0,
    "start_time": "2024-12-09T02:27:03.491Z"
   },
   {
    "duration": 4,
    "start_time": "2024-12-09T02:27:21.175Z"
   },
   {
    "duration": 83,
    "start_time": "2024-12-09T02:27:21.181Z"
   },
   {
    "duration": 12,
    "start_time": "2024-12-09T02:27:21.266Z"
   },
   {
    "duration": 8,
    "start_time": "2024-12-09T02:27:21.287Z"
   },
   {
    "duration": 10,
    "start_time": "2024-12-09T02:27:21.297Z"
   },
   {
    "duration": 4,
    "start_time": "2024-12-09T02:27:21.309Z"
   },
   {
    "duration": 19,
    "start_time": "2024-12-09T02:27:21.315Z"
   },
   {
    "duration": 7,
    "start_time": "2024-12-09T02:27:21.336Z"
   },
   {
    "duration": 3,
    "start_time": "2024-12-09T02:27:21.345Z"
   },
   {
    "duration": 7,
    "start_time": "2024-12-09T02:27:21.386Z"
   },
   {
    "duration": 4,
    "start_time": "2024-12-09T02:27:21.395Z"
   },
   {
    "duration": 53,
    "start_time": "2024-12-09T02:27:21.401Z"
   },
   {
    "duration": 0,
    "start_time": "2024-12-09T02:27:21.456Z"
   },
   {
    "duration": 0,
    "start_time": "2024-12-09T02:27:21.458Z"
   },
   {
    "duration": 0,
    "start_time": "2024-12-09T02:27:21.459Z"
   },
   {
    "duration": 10,
    "start_time": "2024-12-09T02:28:16.431Z"
   },
   {
    "duration": 7,
    "start_time": "2024-12-09T02:28:18.188Z"
   },
   {
    "duration": 14,
    "start_time": "2024-12-09T02:28:19.859Z"
   },
   {
    "duration": 14,
    "start_time": "2024-12-09T02:28:51.250Z"
   },
   {
    "duration": 3,
    "start_time": "2024-12-09T02:39:41.645Z"
   },
   {
    "duration": 14,
    "start_time": "2024-12-09T02:39:59.817Z"
   },
   {
    "duration": 12,
    "start_time": "2024-12-09T02:40:09.031Z"
   },
   {
    "duration": 12,
    "start_time": "2024-12-09T02:40:12.831Z"
   },
   {
    "duration": 3,
    "start_time": "2024-12-09T02:40:34.823Z"
   },
   {
    "duration": 14,
    "start_time": "2024-12-09T02:43:07.732Z"
   },
   {
    "duration": 6,
    "start_time": "2024-12-09T02:43:17.378Z"
   },
   {
    "duration": 80,
    "start_time": "2024-12-09T02:43:17.474Z"
   },
   {
    "duration": 11,
    "start_time": "2024-12-09T02:43:17.556Z"
   },
   {
    "duration": 18,
    "start_time": "2024-12-09T02:43:17.569Z"
   },
   {
    "duration": 10,
    "start_time": "2024-12-09T02:43:17.589Z"
   },
   {
    "duration": 4,
    "start_time": "2024-12-09T02:43:17.601Z"
   },
   {
    "duration": 19,
    "start_time": "2024-12-09T02:43:17.606Z"
   },
   {
    "duration": 6,
    "start_time": "2024-12-09T02:43:17.627Z"
   },
   {
    "duration": 3,
    "start_time": "2024-12-09T02:43:17.635Z"
   },
   {
    "duration": 7,
    "start_time": "2024-12-09T02:43:17.640Z"
   },
   {
    "duration": 41,
    "start_time": "2024-12-09T02:43:17.648Z"
   },
   {
    "duration": 9,
    "start_time": "2024-12-09T02:43:17.691Z"
   },
   {
    "duration": 5,
    "start_time": "2024-12-09T02:43:17.701Z"
   },
   {
    "duration": 14,
    "start_time": "2024-12-09T02:43:23.921Z"
   },
   {
    "duration": 4,
    "start_time": "2024-12-09T02:47:59.433Z"
   },
   {
    "duration": 2630,
    "start_time": "2024-12-10T20:55:35.976Z"
   },
   {
    "duration": 112,
    "start_time": "2024-12-10T20:55:38.608Z"
   },
   {
    "duration": 11,
    "start_time": "2024-12-10T20:55:38.722Z"
   },
   {
    "duration": 8,
    "start_time": "2024-12-10T20:55:38.735Z"
   },
   {
    "duration": 9,
    "start_time": "2024-12-10T20:55:38.745Z"
   },
   {
    "duration": 4,
    "start_time": "2024-12-10T20:55:38.755Z"
   },
   {
    "duration": 20,
    "start_time": "2024-12-10T20:55:38.760Z"
   },
   {
    "duration": 8,
    "start_time": "2024-12-10T20:55:38.782Z"
   },
   {
    "duration": 3,
    "start_time": "2024-12-10T20:55:38.792Z"
   },
   {
    "duration": 33,
    "start_time": "2024-12-10T20:55:38.797Z"
   },
   {
    "duration": 5,
    "start_time": "2024-12-10T20:55:38.831Z"
   },
   {
    "duration": 11,
    "start_time": "2024-12-10T20:55:38.838Z"
   },
   {
    "duration": 74,
    "start_time": "2024-12-10T20:55:38.850Z"
   },
   {
    "duration": 4,
    "start_time": "2024-12-10T20:55:38.927Z"
   },
   {
    "duration": 4,
    "start_time": "2024-12-10T20:55:38.934Z"
   },
   {
    "duration": 4,
    "start_time": "2024-12-10T21:11:52.125Z"
   },
   {
    "duration": 3,
    "start_time": "2024-12-10T21:12:06.747Z"
   },
   {
    "duration": 271,
    "start_time": "2024-12-10T21:18:20.133Z"
   },
   {
    "duration": 5,
    "start_time": "2024-12-10T21:18:32.107Z"
   },
   {
    "duration": 3,
    "start_time": "2024-12-10T21:31:52.847Z"
   },
   {
    "duration": 108,
    "start_time": "2024-12-10T21:34:50.842Z"
   },
   {
    "duration": 4,
    "start_time": "2024-12-10T21:35:01.107Z"
   },
   {
    "duration": 90,
    "start_time": "2024-12-10T21:35:01.113Z"
   },
   {
    "duration": 10,
    "start_time": "2024-12-10T21:35:01.205Z"
   },
   {
    "duration": 8,
    "start_time": "2024-12-10T21:35:01.225Z"
   },
   {
    "duration": 9,
    "start_time": "2024-12-10T21:35:01.236Z"
   },
   {
    "duration": 3,
    "start_time": "2024-12-10T21:35:01.247Z"
   },
   {
    "duration": 20,
    "start_time": "2024-12-10T21:35:01.252Z"
   },
   {
    "duration": 6,
    "start_time": "2024-12-10T21:35:01.275Z"
   },
   {
    "duration": 3,
    "start_time": "2024-12-10T21:35:01.283Z"
   },
   {
    "duration": 39,
    "start_time": "2024-12-10T21:35:01.288Z"
   },
   {
    "duration": 6,
    "start_time": "2024-12-10T21:35:01.328Z"
   },
   {
    "duration": 7,
    "start_time": "2024-12-10T21:35:01.336Z"
   },
   {
    "duration": 10,
    "start_time": "2024-12-10T21:35:01.345Z"
   },
   {
    "duration": 5,
    "start_time": "2024-12-10T21:35:01.359Z"
   },
   {
    "duration": 3,
    "start_time": "2024-12-10T21:35:01.425Z"
   },
   {
    "duration": 94,
    "start_time": "2024-12-10T21:35:01.431Z"
   },
   {
    "duration": 500,
    "start_time": "2024-12-10T21:35:46.957Z"
   },
   {
    "duration": 55,
    "start_time": "2024-12-10T21:37:53.059Z"
   },
   {
    "duration": 37,
    "start_time": "2024-12-10T21:38:19.348Z"
   },
   {
    "duration": 30,
    "start_time": "2024-12-10T21:39:01.354Z"
   },
   {
    "duration": 4,
    "start_time": "2024-12-10T21:39:10.461Z"
   },
   {
    "duration": 79,
    "start_time": "2024-12-10T21:39:10.468Z"
   },
   {
    "duration": 11,
    "start_time": "2024-12-10T21:39:10.549Z"
   },
   {
    "duration": 10,
    "start_time": "2024-12-10T21:39:10.561Z"
   },
   {
    "duration": 9,
    "start_time": "2024-12-10T21:39:10.573Z"
   },
   {
    "duration": 4,
    "start_time": "2024-12-10T21:39:10.583Z"
   },
   {
    "duration": 41,
    "start_time": "2024-12-10T21:39:10.588Z"
   },
   {
    "duration": 6,
    "start_time": "2024-12-10T21:39:10.630Z"
   },
   {
    "duration": 3,
    "start_time": "2024-12-10T21:39:10.638Z"
   },
   {
    "duration": 8,
    "start_time": "2024-12-10T21:39:10.643Z"
   },
   {
    "duration": 6,
    "start_time": "2024-12-10T21:39:10.652Z"
   },
   {
    "duration": 8,
    "start_time": "2024-12-10T21:39:10.660Z"
   },
   {
    "duration": 6,
    "start_time": "2024-12-10T21:39:10.670Z"
   },
   {
    "duration": 49,
    "start_time": "2024-12-10T21:39:10.677Z"
   },
   {
    "duration": 5,
    "start_time": "2024-12-10T21:39:10.727Z"
   },
   {
    "duration": 105,
    "start_time": "2024-12-10T21:39:10.733Z"
   },
   {
    "duration": 3,
    "start_time": "2024-12-10T21:40:43.010Z"
   },
   {
    "duration": 6,
    "start_time": "2024-12-10T21:42:59.309Z"
   },
   {
    "duration": 80,
    "start_time": "2024-12-10T21:42:59.317Z"
   },
   {
    "duration": 11,
    "start_time": "2024-12-10T21:42:59.399Z"
   },
   {
    "duration": 7,
    "start_time": "2024-12-10T21:42:59.424Z"
   },
   {
    "duration": 9,
    "start_time": "2024-12-10T21:42:59.433Z"
   },
   {
    "duration": 4,
    "start_time": "2024-12-10T21:42:59.443Z"
   },
   {
    "duration": 19,
    "start_time": "2024-12-10T21:42:59.448Z"
   },
   {
    "duration": 7,
    "start_time": "2024-12-10T21:42:59.468Z"
   },
   {
    "duration": 3,
    "start_time": "2024-12-10T21:42:59.478Z"
   },
   {
    "duration": 44,
    "start_time": "2024-12-10T21:42:59.484Z"
   },
   {
    "duration": 7,
    "start_time": "2024-12-10T21:42:59.530Z"
   },
   {
    "duration": 8,
    "start_time": "2024-12-10T21:42:59.538Z"
   },
   {
    "duration": 10,
    "start_time": "2024-12-10T21:42:59.549Z"
   },
   {
    "duration": 3,
    "start_time": "2024-12-10T21:42:59.561Z"
   },
   {
    "duration": 59,
    "start_time": "2024-12-10T21:42:59.566Z"
   },
   {
    "duration": 4,
    "start_time": "2024-12-10T21:42:59.627Z"
   },
   {
    "duration": 16,
    "start_time": "2024-12-10T21:42:59.633Z"
   },
   {
    "duration": 100,
    "start_time": "2024-12-10T21:42:59.725Z"
   },
   {
    "duration": 11,
    "start_time": "2024-12-10T21:42:59.827Z"
   },
   {
    "duration": 5,
    "start_time": "2024-12-10T21:42:59.840Z"
   },
   {
    "duration": 8,
    "start_time": "2024-12-10T21:42:59.847Z"
   },
   {
    "duration": 31,
    "start_time": "2024-12-10T21:42:59.857Z"
   },
   {
    "duration": 34,
    "start_time": "2024-12-10T21:42:59.890Z"
   },
   {
    "duration": 4,
    "start_time": "2024-12-10T21:42:59.929Z"
   },
   {
    "duration": 19,
    "start_time": "2024-12-10T21:42:59.935Z"
   },
   {
    "duration": 235,
    "start_time": "2024-12-10T21:42:59.955Z"
   },
   {
    "duration": 11,
    "start_time": "2024-12-10T21:43:00.192Z"
   },
   {
    "duration": 20,
    "start_time": "2024-12-10T21:43:00.205Z"
   },
   {
    "duration": 32,
    "start_time": "2024-12-10T21:43:00.226Z"
   },
   {
    "duration": 6,
    "start_time": "2024-12-10T21:43:00.260Z"
   },
   {
    "duration": 3,
    "start_time": "2024-12-10T21:43:00.268Z"
   },
   {
    "duration": 51,
    "start_time": "2024-12-10T21:43:00.273Z"
   },
   {
    "duration": 345,
    "start_time": "2024-12-10T21:47:09.654Z"
   },
   {
    "duration": 4,
    "start_time": "2024-12-10T21:49:43.539Z"
   },
   {
    "duration": 85,
    "start_time": "2024-12-10T21:49:43.545Z"
   },
   {
    "duration": 13,
    "start_time": "2024-12-10T21:49:43.633Z"
   },
   {
    "duration": 8,
    "start_time": "2024-12-10T21:49:43.648Z"
   },
   {
    "duration": 8,
    "start_time": "2024-12-10T21:49:43.658Z"
   },
   {
    "duration": 4,
    "start_time": "2024-12-10T21:49:43.667Z"
   },
   {
    "duration": 50,
    "start_time": "2024-12-10T21:49:43.673Z"
   },
   {
    "duration": 7,
    "start_time": "2024-12-10T21:49:43.725Z"
   },
   {
    "duration": 3,
    "start_time": "2024-12-10T21:49:43.734Z"
   },
   {
    "duration": 7,
    "start_time": "2024-12-10T21:49:43.739Z"
   },
   {
    "duration": 6,
    "start_time": "2024-12-10T21:49:43.749Z"
   },
   {
    "duration": 7,
    "start_time": "2024-12-10T21:49:43.757Z"
   },
   {
    "duration": 6,
    "start_time": "2024-12-10T21:49:43.766Z"
   },
   {
    "duration": 55,
    "start_time": "2024-12-10T21:49:43.773Z"
   },
   {
    "duration": 4,
    "start_time": "2024-12-10T21:49:43.832Z"
   },
   {
    "duration": 5,
    "start_time": "2024-12-10T21:49:43.837Z"
   },
   {
    "duration": 109,
    "start_time": "2024-12-10T21:49:43.844Z"
   },
   {
    "duration": 3,
    "start_time": "2024-12-10T21:57:54.472Z"
   },
   {
    "duration": 4,
    "start_time": "2024-12-10T22:54:09.091Z"
   },
   {
    "duration": 12,
    "start_time": "2024-12-10T22:54:43.635Z"
   },
   {
    "duration": 5,
    "start_time": "2024-12-10T22:55:22.083Z"
   },
   {
    "duration": 6,
    "start_time": "2024-12-10T22:55:24.581Z"
   },
   {
    "duration": 3,
    "start_time": "2024-12-10T22:57:29.878Z"
   },
   {
    "duration": 84,
    "start_time": "2024-12-10T22:57:29.883Z"
   },
   {
    "duration": 11,
    "start_time": "2024-12-10T22:57:29.969Z"
   },
   {
    "duration": 7,
    "start_time": "2024-12-10T22:57:29.981Z"
   },
   {
    "duration": 8,
    "start_time": "2024-12-10T22:57:29.991Z"
   },
   {
    "duration": 29,
    "start_time": "2024-12-10T22:57:30.000Z"
   },
   {
    "duration": 26,
    "start_time": "2024-12-10T22:57:30.031Z"
   },
   {
    "duration": 6,
    "start_time": "2024-12-10T22:57:30.060Z"
   },
   {
    "duration": 3,
    "start_time": "2024-12-10T22:57:30.068Z"
   },
   {
    "duration": 7,
    "start_time": "2024-12-10T22:57:30.073Z"
   },
   {
    "duration": 6,
    "start_time": "2024-12-10T22:57:30.082Z"
   },
   {
    "duration": 7,
    "start_time": "2024-12-10T22:57:30.090Z"
   },
   {
    "duration": 61,
    "start_time": "2024-12-10T22:57:30.098Z"
   },
   {
    "duration": 6,
    "start_time": "2024-12-10T22:57:30.162Z"
   },
   {
    "duration": 4,
    "start_time": "2024-12-10T22:57:30.169Z"
   },
   {
    "duration": 70,
    "start_time": "2024-12-10T22:57:30.177Z"
   },
   {
    "duration": 8,
    "start_time": "2024-12-10T22:57:30.250Z"
   },
   {
    "duration": 3,
    "start_time": "2024-12-10T22:58:43.249Z"
   },
   {
    "duration": 9,
    "start_time": "2024-12-10T22:58:52.044Z"
   },
   {
    "duration": 4,
    "start_time": "2024-12-10T22:58:52.896Z"
   },
   {
    "duration": 3,
    "start_time": "2024-12-10T23:10:42.479Z"
   },
   {
    "duration": 82,
    "start_time": "2024-12-10T23:10:42.485Z"
   },
   {
    "duration": 10,
    "start_time": "2024-12-10T23:10:42.569Z"
   },
   {
    "duration": 7,
    "start_time": "2024-12-10T23:10:42.581Z"
   },
   {
    "duration": 7,
    "start_time": "2024-12-10T23:10:42.591Z"
   },
   {
    "duration": 4,
    "start_time": "2024-12-10T23:10:42.623Z"
   },
   {
    "duration": 20,
    "start_time": "2024-12-10T23:10:42.628Z"
   },
   {
    "duration": 6,
    "start_time": "2024-12-10T23:10:42.650Z"
   },
   {
    "duration": 3,
    "start_time": "2024-12-10T23:10:42.658Z"
   },
   {
    "duration": 7,
    "start_time": "2024-12-10T23:10:42.663Z"
   },
   {
    "duration": 6,
    "start_time": "2024-12-10T23:10:42.672Z"
   },
   {
    "duration": 45,
    "start_time": "2024-12-10T23:10:42.679Z"
   },
   {
    "duration": 5,
    "start_time": "2024-12-10T23:10:42.727Z"
   },
   {
    "duration": 4,
    "start_time": "2024-12-10T23:10:42.734Z"
   },
   {
    "duration": 4,
    "start_time": "2024-12-10T23:10:42.740Z"
   },
   {
    "duration": 4,
    "start_time": "2024-12-10T23:10:42.746Z"
   },
   {
    "duration": 73,
    "start_time": "2024-12-10T23:10:42.752Z"
   },
   {
    "duration": 4,
    "start_time": "2024-12-10T23:10:42.827Z"
   },
   {
    "duration": 111,
    "start_time": "2024-12-10T23:10:42.833Z"
   },
   {
    "duration": 10,
    "start_time": "2024-12-10T23:10:42.946Z"
   },
   {
    "duration": 5,
    "start_time": "2024-12-10T23:10:42.958Z"
   },
   {
    "duration": 9,
    "start_time": "2024-12-10T23:10:42.965Z"
   },
   {
    "duration": 53,
    "start_time": "2024-12-10T23:10:42.976Z"
   },
   {
    "duration": 5,
    "start_time": "2024-12-10T23:10:43.031Z"
   },
   {
    "duration": 3,
    "start_time": "2024-12-10T23:10:43.039Z"
   },
   {
    "duration": 22,
    "start_time": "2024-12-10T23:10:43.044Z"
   },
   {
    "duration": 5,
    "start_time": "2024-12-10T23:10:43.123Z"
   },
   {
    "duration": 6,
    "start_time": "2024-12-10T23:10:43.130Z"
   },
   {
    "duration": 164,
    "start_time": "2024-12-10T23:10:43.138Z"
   },
   {
    "duration": 11,
    "start_time": "2024-12-10T23:10:43.304Z"
   },
   {
    "duration": 8,
    "start_time": "2024-12-10T23:10:43.324Z"
   },
   {
    "duration": 30,
    "start_time": "2024-12-10T23:10:43.334Z"
   },
   {
    "duration": 5,
    "start_time": "2024-12-10T23:10:43.365Z"
   },
   {
    "duration": 4,
    "start_time": "2024-12-10T23:10:43.372Z"
   },
   {
    "duration": 51,
    "start_time": "2024-12-10T23:10:43.378Z"
   },
   {
    "duration": 5,
    "start_time": "2024-12-10T23:10:43.432Z"
   },
   {
    "duration": 81,
    "start_time": "2024-12-10T23:10:43.443Z"
   },
   {
    "duration": 4,
    "start_time": "2024-12-10T23:17:00.326Z"
   },
   {
    "duration": 96,
    "start_time": "2024-12-10T23:17:00.333Z"
   },
   {
    "duration": 12,
    "start_time": "2024-12-10T23:17:00.430Z"
   },
   {
    "duration": 8,
    "start_time": "2024-12-10T23:17:00.443Z"
   },
   {
    "duration": 9,
    "start_time": "2024-12-10T23:17:00.453Z"
   },
   {
    "duration": 4,
    "start_time": "2024-12-10T23:17:00.463Z"
   },
   {
    "duration": 20,
    "start_time": "2024-12-10T23:17:00.468Z"
   },
   {
    "duration": 38,
    "start_time": "2024-12-10T23:17:00.489Z"
   },
   {
    "duration": 3,
    "start_time": "2024-12-10T23:17:00.529Z"
   },
   {
    "duration": 9,
    "start_time": "2024-12-10T23:17:00.534Z"
   },
   {
    "duration": 6,
    "start_time": "2024-12-10T23:17:00.544Z"
   },
   {
    "duration": 9,
    "start_time": "2024-12-10T23:17:00.552Z"
   },
   {
    "duration": 5,
    "start_time": "2024-12-10T23:17:00.563Z"
   },
   {
    "duration": 53,
    "start_time": "2024-12-10T23:17:00.572Z"
   },
   {
    "duration": 4,
    "start_time": "2024-12-10T23:17:00.627Z"
   },
   {
    "duration": 5,
    "start_time": "2024-12-10T23:17:00.632Z"
   },
   {
    "duration": 86,
    "start_time": "2024-12-10T23:17:00.639Z"
   },
   {
    "duration": 4,
    "start_time": "2024-12-10T23:17:00.727Z"
   },
   {
    "duration": 94,
    "start_time": "2024-12-10T23:17:00.732Z"
   },
   {
    "duration": 11,
    "start_time": "2024-12-10T23:17:00.828Z"
   },
   {
    "duration": 4,
    "start_time": "2024-12-10T23:17:00.841Z"
   },
   {
    "duration": 8,
    "start_time": "2024-12-10T23:17:00.847Z"
   },
   {
    "duration": 28,
    "start_time": "2024-12-10T23:17:00.857Z"
   },
   {
    "duration": 6,
    "start_time": "2024-12-10T23:17:00.887Z"
   },
   {
    "duration": 3,
    "start_time": "2024-12-10T23:17:00.923Z"
   },
   {
    "duration": 19,
    "start_time": "2024-12-10T23:17:00.929Z"
   },
   {
    "duration": 4,
    "start_time": "2024-12-10T23:17:00.949Z"
   },
   {
    "duration": 5,
    "start_time": "2024-12-10T23:17:00.954Z"
   },
   {
    "duration": 208,
    "start_time": "2024-12-10T23:17:00.960Z"
   },
   {
    "duration": 16,
    "start_time": "2024-12-10T23:17:01.171Z"
   },
   {
    "duration": 11,
    "start_time": "2024-12-10T23:17:01.189Z"
   },
   {
    "duration": 56,
    "start_time": "2024-12-10T23:17:01.202Z"
   },
   {
    "duration": 5,
    "start_time": "2024-12-10T23:17:01.260Z"
   },
   {
    "duration": 4,
    "start_time": "2024-12-10T23:17:01.267Z"
   },
   {
    "duration": 50,
    "start_time": "2024-12-10T23:17:01.273Z"
   },
   {
    "duration": 4,
    "start_time": "2024-12-10T23:17:01.325Z"
   },
   {
    "duration": 5,
    "start_time": "2024-12-10T23:17:01.331Z"
   },
   {
    "duration": 162,
    "start_time": "2024-12-11T03:14:45.466Z"
   },
   {
    "duration": 2709,
    "start_time": "2024-12-11T03:15:19.995Z"
   },
   {
    "duration": 105,
    "start_time": "2024-12-11T03:15:22.706Z"
   },
   {
    "duration": 11,
    "start_time": "2024-12-11T03:15:22.813Z"
   },
   {
    "duration": 8,
    "start_time": "2024-12-11T03:15:22.826Z"
   },
   {
    "duration": 9,
    "start_time": "2024-12-11T03:15:22.836Z"
   },
   {
    "duration": 4,
    "start_time": "2024-12-11T03:15:22.846Z"
   },
   {
    "duration": 20,
    "start_time": "2024-12-11T03:15:22.852Z"
   },
   {
    "duration": 39,
    "start_time": "2024-12-11T03:15:22.874Z"
   },
   {
    "duration": 3,
    "start_time": "2024-12-11T03:15:22.915Z"
   },
   {
    "duration": 8,
    "start_time": "2024-12-11T03:15:22.920Z"
   },
   {
    "duration": 7,
    "start_time": "2024-12-11T03:15:22.930Z"
   },
   {
    "duration": 10,
    "start_time": "2024-12-11T03:15:22.939Z"
   },
   {
    "duration": 65,
    "start_time": "2024-12-11T03:15:22.951Z"
   },
   {
    "duration": 5,
    "start_time": "2024-12-11T03:15:23.020Z"
   },
   {
    "duration": 4,
    "start_time": "2024-12-11T03:15:23.027Z"
   },
   {
    "duration": 78,
    "start_time": "2024-12-11T03:15:23.033Z"
   },
   {
    "duration": 10,
    "start_time": "2024-12-11T03:15:23.114Z"
   },
   {
    "duration": 4,
    "start_time": "2024-12-11T03:15:23.125Z"
   },
   {
    "duration": 5,
    "start_time": "2024-12-11T03:16:07.159Z"
   },
   {
    "duration": 102,
    "start_time": "2024-12-11T03:16:07.167Z"
   },
   {
    "duration": 12,
    "start_time": "2024-12-11T03:16:07.272Z"
   },
   {
    "duration": 10,
    "start_time": "2024-12-11T03:16:07.286Z"
   },
   {
    "duration": 14,
    "start_time": "2024-12-11T03:16:07.310Z"
   },
   {
    "duration": 4,
    "start_time": "2024-12-11T03:16:07.326Z"
   },
   {
    "duration": 23,
    "start_time": "2024-12-11T03:16:07.332Z"
   },
   {
    "duration": 9,
    "start_time": "2024-12-11T03:16:07.358Z"
   },
   {
    "duration": 4,
    "start_time": "2024-12-11T03:16:07.369Z"
   },
   {
    "duration": 40,
    "start_time": "2024-12-11T03:16:07.375Z"
   },
   {
    "duration": 8,
    "start_time": "2024-12-11T03:16:07.417Z"
   },
   {
    "duration": 9,
    "start_time": "2024-12-11T03:16:07.427Z"
   },
   {
    "duration": 4,
    "start_time": "2024-12-11T03:16:07.437Z"
   },
   {
    "duration": 5,
    "start_time": "2024-12-11T03:16:07.445Z"
   },
   {
    "duration": 5,
    "start_time": "2024-12-11T03:16:07.451Z"
   },
   {
    "duration": 4,
    "start_time": "2024-12-11T03:16:07.509Z"
   },
   {
    "duration": 9,
    "start_time": "2024-12-11T03:16:07.515Z"
   },
   {
    "duration": 4,
    "start_time": "2024-12-11T03:16:07.526Z"
   },
   {
    "duration": 178,
    "start_time": "2024-12-11T03:16:07.532Z"
   },
   {
    "duration": 13,
    "start_time": "2024-12-11T03:16:07.711Z"
   },
   {
    "duration": 8,
    "start_time": "2024-12-11T03:16:07.726Z"
   },
   {
    "duration": 9,
    "start_time": "2024-12-11T03:16:07.736Z"
   },
   {
    "duration": 32,
    "start_time": "2024-12-11T03:16:07.747Z"
   },
   {
    "duration": 31,
    "start_time": "2024-12-11T03:16:07.780Z"
   },
   {
    "duration": 3,
    "start_time": "2024-12-11T03:16:07.813Z"
   },
   {
    "duration": 25,
    "start_time": "2024-12-11T03:16:07.818Z"
   },
   {
    "duration": 5,
    "start_time": "2024-12-11T03:16:07.847Z"
   },
   {
    "duration": 7,
    "start_time": "2024-12-11T03:16:07.908Z"
   },
   {
    "duration": 179,
    "start_time": "2024-12-11T03:16:07.917Z"
   },
   {
    "duration": 10,
    "start_time": "2024-12-11T03:16:08.098Z"
   },
   {
    "duration": 7,
    "start_time": "2024-12-11T03:16:08.110Z"
   },
   {
    "duration": 31,
    "start_time": "2024-12-11T03:16:08.119Z"
   },
   {
    "duration": 5,
    "start_time": "2024-12-11T03:16:08.152Z"
   },
   {
    "duration": 5,
    "start_time": "2024-12-11T03:16:08.159Z"
   },
   {
    "duration": 48,
    "start_time": "2024-12-11T03:16:08.167Z"
   },
   {
    "duration": 4,
    "start_time": "2024-12-11T03:16:08.218Z"
   },
   {
    "duration": 5,
    "start_time": "2024-12-11T03:16:08.224Z"
   },
   {
    "duration": 46,
    "start_time": "2024-12-11T03:36:29.258Z"
   },
   {
    "duration": 84,
    "start_time": "2024-12-11T03:37:59.012Z"
   },
   {
    "duration": 21,
    "start_time": "2024-12-11T03:38:22.991Z"
   },
   {
    "duration": 18,
    "start_time": "2024-12-11T03:38:37.362Z"
   },
   {
    "duration": 41,
    "start_time": "2024-12-11T03:38:53.347Z"
   },
   {
    "duration": 4,
    "start_time": "2024-12-11T03:38:58.670Z"
   },
   {
    "duration": 955,
    "start_time": "2024-12-11T03:59:21.968Z"
   },
   {
    "duration": 89,
    "start_time": "2024-12-11T03:59:22.926Z"
   },
   {
    "duration": 12,
    "start_time": "2024-12-11T03:59:23.017Z"
   },
   {
    "duration": 9,
    "start_time": "2024-12-11T03:59:23.030Z"
   },
   {
    "duration": 12,
    "start_time": "2024-12-11T03:59:23.042Z"
   },
   {
    "duration": 3,
    "start_time": "2024-12-11T03:59:23.056Z"
   },
   {
    "duration": 51,
    "start_time": "2024-12-11T03:59:23.061Z"
   },
   {
    "duration": 9,
    "start_time": "2024-12-11T03:59:23.114Z"
   },
   {
    "duration": 3,
    "start_time": "2024-12-11T03:59:23.125Z"
   },
   {
    "duration": 11,
    "start_time": "2024-12-11T03:59:23.130Z"
   },
   {
    "duration": 7,
    "start_time": "2024-12-11T03:59:23.143Z"
   },
   {
    "duration": 9,
    "start_time": "2024-12-11T03:59:23.152Z"
   },
   {
    "duration": 49,
    "start_time": "2024-12-11T03:59:23.163Z"
   },
   {
    "duration": 5,
    "start_time": "2024-12-11T03:59:23.215Z"
   },
   {
    "duration": 254,
    "start_time": "2024-12-11T04:24:11.403Z"
   },
   {
    "duration": 3,
    "start_time": "2024-12-11T04:24:44.542Z"
   },
   {
    "duration": 4,
    "start_time": "2024-12-11T04:26:45.152Z"
   },
   {
    "duration": 2895,
    "start_time": "2024-12-11T06:15:23.855Z"
   },
   {
    "duration": 141,
    "start_time": "2024-12-11T06:15:26.753Z"
   },
   {
    "duration": 15,
    "start_time": "2024-12-11T06:15:26.898Z"
   },
   {
    "duration": 10,
    "start_time": "2024-12-11T06:15:26.915Z"
   },
   {
    "duration": 11,
    "start_time": "2024-12-11T06:15:26.927Z"
   },
   {
    "duration": 8,
    "start_time": "2024-12-11T06:15:26.939Z"
   },
   {
    "duration": 45,
    "start_time": "2024-12-11T06:15:26.949Z"
   },
   {
    "duration": 8,
    "start_time": "2024-12-11T06:15:26.997Z"
   },
   {
    "duration": 4,
    "start_time": "2024-12-11T06:15:27.006Z"
   },
   {
    "duration": 8,
    "start_time": "2024-12-11T06:15:27.012Z"
   },
   {
    "duration": 13,
    "start_time": "2024-12-11T06:15:27.021Z"
   },
   {
    "duration": 38,
    "start_time": "2024-12-11T06:15:27.035Z"
   },
   {
    "duration": 7,
    "start_time": "2024-12-11T06:15:27.075Z"
   },
   {
    "duration": 6,
    "start_time": "2024-12-11T06:15:27.090Z"
   },
   {
    "duration": 75,
    "start_time": "2024-12-11T06:15:27.099Z"
   },
   {
    "duration": 5,
    "start_time": "2024-12-11T06:15:27.176Z"
   },
   {
    "duration": 12,
    "start_time": "2024-12-11T06:15:27.184Z"
   },
   {
    "duration": 3,
    "start_time": "2024-12-11T06:15:27.200Z"
   },
   {
    "duration": 118,
    "start_time": "2024-12-11T06:15:27.205Z"
   },
   {
    "duration": 11,
    "start_time": "2024-12-11T06:15:27.324Z"
   },
   {
    "duration": 5,
    "start_time": "2024-12-11T06:15:27.337Z"
   },
   {
    "duration": 26,
    "start_time": "2024-12-11T06:15:27.344Z"
   },
   {
    "duration": 35,
    "start_time": "2024-12-11T06:15:27.372Z"
   },
   {
    "duration": 10,
    "start_time": "2024-12-11T06:15:27.408Z"
   },
   {
    "duration": 7,
    "start_time": "2024-12-11T06:15:27.420Z"
   },
   {
    "duration": 42,
    "start_time": "2024-12-11T06:15:27.430Z"
   },
   {
    "duration": 4,
    "start_time": "2024-12-11T06:15:27.474Z"
   },
   {
    "duration": 5,
    "start_time": "2024-12-11T06:15:27.480Z"
   },
   {
    "duration": 205,
    "start_time": "2024-12-11T06:15:27.487Z"
   },
   {
    "duration": 15,
    "start_time": "2024-12-11T06:15:27.694Z"
   },
   {
    "duration": 12,
    "start_time": "2024-12-11T06:15:27.712Z"
   },
   {
    "duration": 44,
    "start_time": "2024-12-11T06:15:27.726Z"
   },
   {
    "duration": 8,
    "start_time": "2024-12-11T06:15:27.772Z"
   },
   {
    "duration": 4,
    "start_time": "2024-12-11T06:15:27.781Z"
   },
   {
    "duration": 24,
    "start_time": "2024-12-11T06:15:27.787Z"
   },
   {
    "duration": 5,
    "start_time": "2024-12-11T06:15:27.813Z"
   },
   {
    "duration": 63,
    "start_time": "2024-12-11T06:15:27.819Z"
   },
   {
    "duration": 4,
    "start_time": "2024-12-11T06:15:27.884Z"
   },
   {
    "duration": 4,
    "start_time": "2024-12-11T06:15:27.890Z"
   },
   {
    "duration": 75,
    "start_time": "2024-12-11T06:15:27.896Z"
   },
   {
    "duration": 7,
    "start_time": "2024-12-11T06:16:17.546Z"
   },
   {
    "duration": 8,
    "start_time": "2024-12-11T06:18:34.735Z"
   },
   {
    "duration": 6,
    "start_time": "2024-12-11T06:19:28.488Z"
   },
   {
    "duration": 294,
    "start_time": "2024-12-11T06:19:44.717Z"
   },
   {
    "duration": 23,
    "start_time": "2024-12-11T06:20:29.057Z"
   },
   {
    "duration": 25,
    "start_time": "2024-12-11T06:21:12.262Z"
   },
   {
    "duration": 12,
    "start_time": "2024-12-11T06:23:29.961Z"
   },
   {
    "duration": 999,
    "start_time": "2024-12-11T06:26:04.373Z"
   },
   {
    "duration": 86,
    "start_time": "2024-12-11T06:26:05.375Z"
   },
   {
    "duration": 12,
    "start_time": "2024-12-11T06:26:05.469Z"
   },
   {
    "duration": 10,
    "start_time": "2024-12-11T06:26:05.482Z"
   },
   {
    "duration": 9,
    "start_time": "2024-12-11T06:26:05.494Z"
   },
   {
    "duration": 4,
    "start_time": "2024-12-11T06:26:05.505Z"
   },
   {
    "duration": 21,
    "start_time": "2024-12-11T06:26:05.511Z"
   },
   {
    "duration": 40,
    "start_time": "2024-12-11T06:26:05.534Z"
   },
   {
    "duration": 3,
    "start_time": "2024-12-11T06:26:05.575Z"
   },
   {
    "duration": 90,
    "start_time": "2024-12-11T06:26:05.580Z"
   },
   {
    "duration": 12,
    "start_time": "2024-12-11T06:26:05.672Z"
   },
   {
    "duration": 4,
    "start_time": "2024-12-11T06:26:05.685Z"
   },
   {
    "duration": 8,
    "start_time": "2024-12-11T06:26:05.691Z"
   },
   {
    "duration": 28,
    "start_time": "2024-12-11T06:26:05.703Z"
   },
   {
    "duration": 37,
    "start_time": "2024-12-11T06:26:05.733Z"
   },
   {
    "duration": 4,
    "start_time": "2024-12-11T06:26:05.772Z"
   },
   {
    "duration": 93,
    "start_time": "2024-12-11T06:26:05.777Z"
   },
   {
    "duration": 10,
    "start_time": "2024-12-11T06:26:05.872Z"
   },
   {
    "duration": 8,
    "start_time": "2024-12-11T06:26:05.883Z"
   },
   {
    "duration": 37,
    "start_time": "2024-12-11T06:26:05.894Z"
   },
   {
    "duration": 6,
    "start_time": "2024-12-11T06:26:05.933Z"
   },
   {
    "duration": 3,
    "start_time": "2024-12-11T06:26:05.941Z"
   },
   {
    "duration": 5,
    "start_time": "2024-12-11T06:26:05.971Z"
   },
   {
    "duration": 3,
    "start_time": "2024-12-11T06:26:05.978Z"
   },
   {
    "duration": 257,
    "start_time": "2024-12-11T06:26:05.983Z"
   },
   {
    "duration": 23,
    "start_time": "2024-12-11T06:26:52.223Z"
   },
   {
    "duration": 23,
    "start_time": "2024-12-11T06:29:04.079Z"
   },
   {
    "duration": 702,
    "start_time": "2024-12-11T06:34:48.969Z"
   },
   {
    "duration": 46,
    "start_time": "2024-12-11T06:35:27.974Z"
   },
   {
    "duration": 18,
    "start_time": "2024-12-11T06:43:48.151Z"
   },
   {
    "duration": 14,
    "start_time": "2024-12-11T06:43:57.415Z"
   },
   {
    "duration": 4,
    "start_time": "2024-12-11T06:44:05.644Z"
   },
   {
    "duration": 83,
    "start_time": "2024-12-11T06:44:05.650Z"
   },
   {
    "duration": 10,
    "start_time": "2024-12-11T06:44:05.736Z"
   },
   {
    "duration": 7,
    "start_time": "2024-12-11T06:44:05.748Z"
   },
   {
    "duration": 20,
    "start_time": "2024-12-11T06:44:05.757Z"
   },
   {
    "duration": 3,
    "start_time": "2024-12-11T06:44:05.779Z"
   },
   {
    "duration": 18,
    "start_time": "2024-12-11T06:44:05.784Z"
   },
   {
    "duration": 3,
    "start_time": "2024-12-11T06:44:05.804Z"
   },
   {
    "duration": 104,
    "start_time": "2024-12-11T06:44:05.809Z"
   },
   {
    "duration": 11,
    "start_time": "2024-12-11T06:44:05.914Z"
   },
   {
    "duration": 4,
    "start_time": "2024-12-11T06:44:05.929Z"
   },
   {
    "duration": 8,
    "start_time": "2024-12-11T06:44:05.935Z"
   },
   {
    "duration": 50,
    "start_time": "2024-12-11T06:44:05.945Z"
   },
   {
    "duration": 3,
    "start_time": "2024-12-11T06:44:05.998Z"
   },
   {
    "duration": 93,
    "start_time": "2024-12-11T06:44:06.003Z"
   },
   {
    "duration": 10,
    "start_time": "2024-12-11T06:44:06.097Z"
   },
   {
    "duration": 8,
    "start_time": "2024-12-11T06:44:06.109Z"
   },
   {
    "duration": 52,
    "start_time": "2024-12-11T06:44:06.118Z"
   },
   {
    "duration": 4,
    "start_time": "2024-12-11T06:44:06.172Z"
   },
   {
    "duration": 16,
    "start_time": "2024-12-11T06:44:06.178Z"
   },
   {
    "duration": 3,
    "start_time": "2024-12-11T06:46:04.182Z"
   },
   {
    "duration": 25,
    "start_time": "2024-12-11T06:46:25.949Z"
   },
   {
    "duration": 2694,
    "start_time": "2024-12-11T14:45:14.928Z"
   },
   {
    "duration": 129,
    "start_time": "2024-12-11T14:45:17.624Z"
   },
   {
    "duration": 12,
    "start_time": "2024-12-11T14:45:17.755Z"
   },
   {
    "duration": 8,
    "start_time": "2024-12-11T14:45:17.769Z"
   },
   {
    "duration": 9,
    "start_time": "2024-12-11T14:45:17.779Z"
   },
   {
    "duration": 4,
    "start_time": "2024-12-11T14:45:17.790Z"
   },
   {
    "duration": 52,
    "start_time": "2024-12-11T14:45:17.796Z"
   },
   {
    "duration": 2,
    "start_time": "2024-12-11T14:45:17.850Z"
   },
   {
    "duration": 106,
    "start_time": "2024-12-11T14:45:17.855Z"
   },
   {
    "duration": 11,
    "start_time": "2024-12-11T14:45:17.965Z"
   },
   {
    "duration": 4,
    "start_time": "2024-12-11T14:45:17.978Z"
   },
   {
    "duration": 8,
    "start_time": "2024-12-11T14:45:17.984Z"
   },
   {
    "duration": 56,
    "start_time": "2024-12-11T14:45:17.993Z"
   },
   {
    "duration": 3,
    "start_time": "2024-12-11T14:45:18.052Z"
   },
   {
    "duration": 105,
    "start_time": "2024-12-11T14:45:18.057Z"
   },
   {
    "duration": 10,
    "start_time": "2024-12-11T14:45:18.164Z"
   },
   {
    "duration": 8,
    "start_time": "2024-12-11T14:45:18.177Z"
   },
   {
    "duration": 49,
    "start_time": "2024-12-11T14:45:18.187Z"
   },
   {
    "duration": 3,
    "start_time": "2024-12-11T14:45:18.238Z"
   },
   {
    "duration": 16,
    "start_time": "2024-12-11T14:45:18.243Z"
   },
   {
    "duration": 3,
    "start_time": "2024-12-11T14:45:18.261Z"
   },
   {
    "duration": 3,
    "start_time": "2024-12-11T14:45:18.266Z"
   },
   {
    "duration": 334,
    "start_time": "2024-12-11T14:45:18.271Z"
   },
   {
    "duration": 26,
    "start_time": "2024-12-11T14:45:52.847Z"
   },
   {
    "duration": 7,
    "start_time": "2024-12-11T14:51:47.837Z"
   },
   {
    "duration": 40,
    "start_time": "2024-12-11T14:52:14.589Z"
   },
   {
    "duration": 641,
    "start_time": "2024-12-11T14:54:09.177Z"
   },
   {
    "duration": 7,
    "start_time": "2024-12-11T14:54:33.473Z"
   },
   {
    "duration": 80,
    "start_time": "2024-12-11T14:54:33.482Z"
   },
   {
    "duration": 11,
    "start_time": "2024-12-11T14:54:33.564Z"
   },
   {
    "duration": 9,
    "start_time": "2024-12-11T14:54:33.577Z"
   },
   {
    "duration": 8,
    "start_time": "2024-12-11T14:54:33.589Z"
   },
   {
    "duration": 3,
    "start_time": "2024-12-11T14:54:33.599Z"
   },
   {
    "duration": 40,
    "start_time": "2024-12-11T14:54:33.604Z"
   },
   {
    "duration": 3,
    "start_time": "2024-12-11T14:54:33.645Z"
   },
   {
    "duration": 92,
    "start_time": "2024-12-11T14:54:33.650Z"
   },
   {
    "duration": 12,
    "start_time": "2024-12-11T14:54:33.743Z"
   },
   {
    "duration": 5,
    "start_time": "2024-12-11T14:54:33.758Z"
   },
   {
    "duration": 8,
    "start_time": "2024-12-11T14:54:33.764Z"
   },
   {
    "duration": 29,
    "start_time": "2024-12-11T14:54:33.774Z"
   },
   {
    "duration": 5,
    "start_time": "2024-12-11T14:54:33.831Z"
   },
   {
    "duration": 96,
    "start_time": "2024-12-11T14:54:33.838Z"
   },
   {
    "duration": 12,
    "start_time": "2024-12-11T14:54:33.936Z"
   },
   {
    "duration": 9,
    "start_time": "2024-12-11T14:54:33.949Z"
   },
   {
    "duration": 32,
    "start_time": "2024-12-11T14:54:33.960Z"
   },
   {
    "duration": 4,
    "start_time": "2024-12-11T14:54:33.993Z"
   },
   {
    "duration": 27,
    "start_time": "2024-12-11T14:54:41.648Z"
   },
   {
    "duration": 4,
    "start_time": "2024-12-11T14:55:30.297Z"
   },
   {
    "duration": 2,
    "start_time": "2024-12-11T14:55:35.339Z"
   },
   {
    "duration": 51,
    "start_time": "2024-12-11T14:55:37.295Z"
   },
   {
    "duration": 1004,
    "start_time": "2024-12-11T14:57:26.225Z"
   },
   {
    "duration": 84,
    "start_time": "2024-12-11T14:57:27.231Z"
   },
   {
    "duration": 19,
    "start_time": "2024-12-11T14:57:27.318Z"
   },
   {
    "duration": 9,
    "start_time": "2024-12-11T14:57:27.339Z"
   },
   {
    "duration": 9,
    "start_time": "2024-12-11T14:57:27.349Z"
   },
   {
    "duration": 4,
    "start_time": "2024-12-11T14:57:27.360Z"
   },
   {
    "duration": 21,
    "start_time": "2024-12-11T14:57:27.366Z"
   },
   {
    "duration": 4,
    "start_time": "2024-12-11T14:57:27.389Z"
   },
   {
    "duration": 108,
    "start_time": "2024-12-11T14:57:27.394Z"
   },
   {
    "duration": 10,
    "start_time": "2024-12-11T14:57:27.505Z"
   },
   {
    "duration": 15,
    "start_time": "2024-12-11T14:57:27.516Z"
   },
   {
    "duration": 9,
    "start_time": "2024-12-11T14:57:27.533Z"
   },
   {
    "duration": 31,
    "start_time": "2024-12-11T14:57:27.543Z"
   },
   {
    "duration": 4,
    "start_time": "2024-12-11T14:57:27.577Z"
   },
   {
    "duration": 117,
    "start_time": "2024-12-11T14:57:27.583Z"
   },
   {
    "duration": 11,
    "start_time": "2024-12-11T14:57:27.702Z"
   },
   {
    "duration": 18,
    "start_time": "2024-12-11T14:57:27.714Z"
   },
   {
    "duration": 34,
    "start_time": "2024-12-11T14:57:27.733Z"
   },
   {
    "duration": 3,
    "start_time": "2024-12-11T14:57:27.769Z"
   },
   {
    "duration": 28,
    "start_time": "2024-12-11T14:57:27.773Z"
   },
   {
    "duration": 28,
    "start_time": "2024-12-11T14:57:27.803Z"
   },
   {
    "duration": 5,
    "start_time": "2024-12-11T14:57:27.833Z"
   },
   {
    "duration": 3,
    "start_time": "2024-12-11T14:57:33.949Z"
   },
   {
    "duration": 173,
    "start_time": "2024-12-11T14:57:38.910Z"
   },
   {
    "duration": 10,
    "start_time": "2024-12-11T14:58:13.834Z"
   },
   {
    "duration": 9,
    "start_time": "2024-12-11T14:59:58.054Z"
   },
   {
    "duration": 9,
    "start_time": "2024-12-11T15:00:12.561Z"
   },
   {
    "duration": 3,
    "start_time": "2024-12-11T15:00:39.520Z"
   },
   {
    "duration": 79,
    "start_time": "2024-12-11T15:00:39.525Z"
   },
   {
    "duration": 11,
    "start_time": "2024-12-11T15:00:39.606Z"
   },
   {
    "duration": 16,
    "start_time": "2024-12-11T15:00:39.620Z"
   },
   {
    "duration": 8,
    "start_time": "2024-12-11T15:00:39.638Z"
   },
   {
    "duration": 4,
    "start_time": "2024-12-11T15:00:39.648Z"
   },
   {
    "duration": 27,
    "start_time": "2024-12-11T15:00:39.654Z"
   },
   {
    "duration": 5,
    "start_time": "2024-12-11T15:00:39.682Z"
   },
   {
    "duration": 106,
    "start_time": "2024-12-11T15:00:39.689Z"
   },
   {
    "duration": 12,
    "start_time": "2024-12-11T15:00:39.798Z"
   },
   {
    "duration": 6,
    "start_time": "2024-12-11T15:00:39.811Z"
   },
   {
    "duration": 9,
    "start_time": "2024-12-11T15:00:39.831Z"
   },
   {
    "duration": 30,
    "start_time": "2024-12-11T15:00:39.843Z"
   },
   {
    "duration": 6,
    "start_time": "2024-12-11T15:00:39.875Z"
   },
   {
    "duration": 98,
    "start_time": "2024-12-11T15:00:39.882Z"
   },
   {
    "duration": 12,
    "start_time": "2024-12-11T15:00:39.982Z"
   },
   {
    "duration": 9,
    "start_time": "2024-12-11T15:00:39.995Z"
   },
   {
    "duration": 44,
    "start_time": "2024-12-11T15:00:40.005Z"
   },
   {
    "duration": 4,
    "start_time": "2024-12-11T15:00:40.051Z"
   },
   {
    "duration": 25,
    "start_time": "2024-12-11T15:00:40.056Z"
   },
   {
    "duration": 3,
    "start_time": "2024-12-11T15:00:40.083Z"
   },
   {
    "duration": 4,
    "start_time": "2024-12-11T15:00:40.088Z"
   },
   {
    "duration": 44,
    "start_time": "2024-12-11T15:00:40.093Z"
   },
   {
    "duration": 11,
    "start_time": "2024-12-11T15:01:05.045Z"
   },
   {
    "duration": 26,
    "start_time": "2024-12-11T15:01:52.918Z"
   },
   {
    "duration": 4,
    "start_time": "2024-12-11T15:02:14.438Z"
   },
   {
    "duration": 24,
    "start_time": "2024-12-11T15:02:28.673Z"
   },
   {
    "duration": 3,
    "start_time": "2024-12-11T15:02:49.359Z"
   },
   {
    "duration": 83,
    "start_time": "2024-12-11T15:02:49.364Z"
   },
   {
    "duration": 11,
    "start_time": "2024-12-11T15:02:49.448Z"
   },
   {
    "duration": 8,
    "start_time": "2024-12-11T15:02:49.461Z"
   },
   {
    "duration": 13,
    "start_time": "2024-12-11T15:02:49.470Z"
   },
   {
    "duration": 4,
    "start_time": "2024-12-11T15:02:49.485Z"
   },
   {
    "duration": 50,
    "start_time": "2024-12-11T15:02:49.490Z"
   },
   {
    "duration": 3,
    "start_time": "2024-12-11T15:02:49.542Z"
   },
   {
    "duration": 88,
    "start_time": "2024-12-11T15:02:49.548Z"
   },
   {
    "duration": 11,
    "start_time": "2024-12-11T15:02:49.638Z"
   },
   {
    "duration": 5,
    "start_time": "2024-12-11T15:02:49.651Z"
   },
   {
    "duration": 8,
    "start_time": "2024-12-11T15:02:49.658Z"
   },
   {
    "duration": 29,
    "start_time": "2024-12-11T15:02:49.667Z"
   },
   {
    "duration": 3,
    "start_time": "2024-12-11T15:02:49.698Z"
   },
   {
    "duration": 129,
    "start_time": "2024-12-11T15:02:49.703Z"
   },
   {
    "duration": 12,
    "start_time": "2024-12-11T15:02:49.835Z"
   },
   {
    "duration": 8,
    "start_time": "2024-12-11T15:02:49.848Z"
   },
   {
    "duration": 31,
    "start_time": "2024-12-11T15:02:49.858Z"
   },
   {
    "duration": 3,
    "start_time": "2024-12-11T15:02:49.891Z"
   },
   {
    "duration": 36,
    "start_time": "2024-12-11T15:02:49.896Z"
   },
   {
    "duration": 24,
    "start_time": "2024-12-11T15:02:49.933Z"
   },
   {
    "duration": 4,
    "start_time": "2024-12-11T15:02:49.958Z"
   },
   {
    "duration": 4,
    "start_time": "2024-12-11T15:02:49.963Z"
   },
   {
    "duration": 3,
    "start_time": "2024-12-11T15:02:59.968Z"
   },
   {
    "duration": 125,
    "start_time": "2024-12-11T15:03:00.289Z"
   },
   {
    "duration": 74,
    "start_time": "2024-12-11T15:03:30.968Z"
   },
   {
    "duration": 4,
    "start_time": "2024-12-11T15:03:40.624Z"
   },
   {
    "duration": 78,
    "start_time": "2024-12-11T15:03:40.631Z"
   },
   {
    "duration": 23,
    "start_time": "2024-12-11T15:03:40.712Z"
   },
   {
    "duration": 8,
    "start_time": "2024-12-11T15:03:40.738Z"
   },
   {
    "duration": 9,
    "start_time": "2024-12-11T15:03:40.749Z"
   },
   {
    "duration": 4,
    "start_time": "2024-12-11T15:03:40.759Z"
   },
   {
    "duration": 25,
    "start_time": "2024-12-11T15:03:40.765Z"
   },
   {
    "duration": 3,
    "start_time": "2024-12-11T15:03:40.792Z"
   },
   {
    "duration": 123,
    "start_time": "2024-12-11T15:03:40.797Z"
   },
   {
    "duration": 13,
    "start_time": "2024-12-11T15:03:40.932Z"
   },
   {
    "duration": 6,
    "start_time": "2024-12-11T15:03:40.946Z"
   },
   {
    "duration": 8,
    "start_time": "2024-12-11T15:03:40.953Z"
   },
   {
    "duration": 31,
    "start_time": "2024-12-11T15:03:40.962Z"
   },
   {
    "duration": 3,
    "start_time": "2024-12-11T15:03:40.995Z"
   },
   {
    "duration": 79,
    "start_time": "2024-12-11T15:03:41.031Z"
   },
   {
    "duration": 21,
    "start_time": "2024-12-11T15:03:41.111Z"
   },
   {
    "duration": 8,
    "start_time": "2024-12-11T15:03:41.133Z"
   },
   {
    "duration": 30,
    "start_time": "2024-12-11T15:03:41.142Z"
   },
   {
    "duration": 5,
    "start_time": "2024-12-11T15:03:41.174Z"
   },
   {
    "duration": 10,
    "start_time": "2024-12-11T15:03:41.181Z"
   },
   {
    "duration": 47,
    "start_time": "2024-12-11T15:03:41.193Z"
   },
   {
    "duration": 4,
    "start_time": "2024-12-11T15:03:41.241Z"
   },
   {
    "duration": 3,
    "start_time": "2024-12-11T15:03:41.247Z"
   },
   {
    "duration": 3,
    "start_time": "2024-12-11T15:03:50.799Z"
   },
   {
    "duration": 51,
    "start_time": "2024-12-11T15:03:50.963Z"
   },
   {
    "duration": 10,
    "start_time": "2024-12-11T15:04:28.779Z"
   },
   {
    "duration": 9,
    "start_time": "2024-12-11T15:04:56.436Z"
   },
   {
    "duration": 12,
    "start_time": "2024-12-11T15:05:09.554Z"
   },
   {
    "duration": 4,
    "start_time": "2024-12-11T15:05:57.290Z"
   },
   {
    "duration": 79,
    "start_time": "2024-12-11T15:05:57.296Z"
   },
   {
    "duration": 10,
    "start_time": "2024-12-11T15:05:57.377Z"
   },
   {
    "duration": 8,
    "start_time": "2024-12-11T15:05:57.389Z"
   },
   {
    "duration": 31,
    "start_time": "2024-12-11T15:05:57.400Z"
   },
   {
    "duration": 4,
    "start_time": "2024-12-11T15:05:57.433Z"
   },
   {
    "duration": 21,
    "start_time": "2024-12-11T15:05:57.439Z"
   },
   {
    "duration": 3,
    "start_time": "2024-12-11T15:05:57.461Z"
   },
   {
    "duration": 101,
    "start_time": "2024-12-11T15:05:57.466Z"
   },
   {
    "duration": 12,
    "start_time": "2024-12-11T15:05:57.569Z"
   },
   {
    "duration": 5,
    "start_time": "2024-12-11T15:05:57.582Z"
   },
   {
    "duration": 8,
    "start_time": "2024-12-11T15:05:57.589Z"
   },
   {
    "duration": 52,
    "start_time": "2024-12-11T15:05:57.598Z"
   },
   {
    "duration": 3,
    "start_time": "2024-12-11T15:05:57.655Z"
   },
   {
    "duration": 93,
    "start_time": "2024-12-11T15:05:57.660Z"
   },
   {
    "duration": 11,
    "start_time": "2024-12-11T15:05:57.755Z"
   },
   {
    "duration": 8,
    "start_time": "2024-12-11T15:05:57.767Z"
   },
   {
    "duration": 33,
    "start_time": "2024-12-11T15:05:57.776Z"
   },
   {
    "duration": 4,
    "start_time": "2024-12-11T15:05:57.831Z"
   },
   {
    "duration": 4,
    "start_time": "2024-12-11T15:05:57.837Z"
   },
   {
    "duration": 26,
    "start_time": "2024-12-11T15:05:57.842Z"
   },
   {
    "duration": 3,
    "start_time": "2024-12-11T15:05:57.870Z"
   },
   {
    "duration": 3,
    "start_time": "2024-12-11T15:05:57.875Z"
   },
   {
    "duration": 2,
    "start_time": "2024-12-11T15:06:01.019Z"
   },
   {
    "duration": 66,
    "start_time": "2024-12-11T15:06:01.274Z"
   },
   {
    "duration": 3016,
    "start_time": "2024-12-11T15:06:54.886Z"
   },
   {
    "duration": 2992,
    "start_time": "2024-12-11T15:07:22.979Z"
   },
   {
    "duration": 3010,
    "start_time": "2024-12-11T15:08:02.470Z"
   },
   {
    "duration": 3014,
    "start_time": "2024-12-11T15:08:30.358Z"
   },
   {
    "duration": 3032,
    "start_time": "2024-12-11T15:11:05.477Z"
   },
   {
    "duration": 3,
    "start_time": "2024-12-11T15:12:19.034Z"
   },
   {
    "duration": 3268,
    "start_time": "2024-12-11T15:12:19.287Z"
   },
   {
    "duration": 3,
    "start_time": "2024-12-11T15:12:52.880Z"
   },
   {
    "duration": 3239,
    "start_time": "2024-12-11T15:12:53.127Z"
   },
   {
    "duration": 2814,
    "start_time": "2024-12-11T22:19:11.536Z"
   },
   {
    "duration": 119,
    "start_time": "2024-12-11T22:19:14.353Z"
   },
   {
    "duration": 12,
    "start_time": "2024-12-11T22:19:14.474Z"
   },
   {
    "duration": 8,
    "start_time": "2024-12-11T22:19:14.488Z"
   },
   {
    "duration": 9,
    "start_time": "2024-12-11T22:19:14.498Z"
   },
   {
    "duration": 24,
    "start_time": "2024-12-11T22:19:14.509Z"
   },
   {
    "duration": 25,
    "start_time": "2024-12-11T22:19:14.535Z"
   },
   {
    "duration": 3,
    "start_time": "2024-12-11T22:19:14.562Z"
   },
   {
    "duration": 134,
    "start_time": "2024-12-11T22:19:14.567Z"
   },
   {
    "duration": 11,
    "start_time": "2024-12-11T22:19:14.703Z"
   },
   {
    "duration": 4,
    "start_time": "2024-12-11T22:19:14.717Z"
   },
   {
    "duration": 9,
    "start_time": "2024-12-11T22:19:14.723Z"
   },
   {
    "duration": 39,
    "start_time": "2024-12-11T22:19:14.734Z"
   },
   {
    "duration": 5,
    "start_time": "2024-12-11T22:19:14.777Z"
   },
   {
    "duration": 134,
    "start_time": "2024-12-11T22:19:14.784Z"
   },
   {
    "duration": 12,
    "start_time": "2024-12-11T22:19:14.921Z"
   },
   {
    "duration": 10,
    "start_time": "2024-12-11T22:19:14.936Z"
   },
   {
    "duration": 48,
    "start_time": "2024-12-11T22:19:14.948Z"
   },
   {
    "duration": 5,
    "start_time": "2024-12-11T22:19:14.998Z"
   },
   {
    "duration": 327,
    "start_time": "2024-12-11T22:19:15.005Z"
   },
   {
    "duration": 0,
    "start_time": "2024-12-11T22:19:15.334Z"
   },
   {
    "duration": 0,
    "start_time": "2024-12-11T22:19:15.335Z"
   },
   {
    "duration": 0,
    "start_time": "2024-12-11T22:19:15.336Z"
   },
   {
    "duration": 26,
    "start_time": "2024-12-11T22:19:50.768Z"
   },
   {
    "duration": 3,
    "start_time": "2024-12-11T22:20:24.398Z"
   },
   {
    "duration": 2,
    "start_time": "2024-12-11T22:20:32.108Z"
   },
   {
    "duration": 3065,
    "start_time": "2024-12-11T22:20:33.533Z"
   },
   {
    "duration": 10,
    "start_time": "2024-12-11T22:32:40.672Z"
   },
   {
    "duration": 2952,
    "start_time": "2024-12-11T22:32:53.719Z"
   },
   {
    "duration": 3042,
    "start_time": "2024-12-11T22:33:05.656Z"
   },
   {
    "duration": 3011,
    "start_time": "2024-12-11T23:07:08.871Z"
   },
   {
    "duration": 2906,
    "start_time": "2024-12-23T18:06:50.032Z"
   },
   {
    "duration": 112,
    "start_time": "2024-12-23T18:06:52.940Z"
   },
   {
    "duration": 14,
    "start_time": "2024-12-23T18:06:53.054Z"
   },
   {
    "duration": 8,
    "start_time": "2024-12-23T18:06:53.072Z"
   },
   {
    "duration": 15,
    "start_time": "2024-12-23T18:06:53.084Z"
   },
   {
    "duration": 4,
    "start_time": "2024-12-23T18:06:53.101Z"
   },
   {
    "duration": 23,
    "start_time": "2024-12-23T18:06:53.107Z"
   },
   {
    "duration": 3,
    "start_time": "2024-12-23T18:06:53.132Z"
   },
   {
    "duration": 149,
    "start_time": "2024-12-23T18:06:53.136Z"
   },
   {
    "duration": 12,
    "start_time": "2024-12-23T18:06:53.289Z"
   },
   {
    "duration": 6,
    "start_time": "2024-12-23T18:06:53.303Z"
   },
   {
    "duration": 10,
    "start_time": "2024-12-23T18:06:53.312Z"
   },
   {
    "duration": 62,
    "start_time": "2024-12-23T18:06:53.324Z"
   },
   {
    "duration": 4,
    "start_time": "2024-12-23T18:06:53.388Z"
   },
   {
    "duration": 106,
    "start_time": "2024-12-23T18:06:53.394Z"
   },
   {
    "duration": 13,
    "start_time": "2024-12-23T18:06:53.502Z"
   },
   {
    "duration": 10,
    "start_time": "2024-12-23T18:06:53.517Z"
   },
   {
    "duration": 63,
    "start_time": "2024-12-23T18:06:53.528Z"
   },
   {
    "duration": 4,
    "start_time": "2024-12-23T18:06:53.593Z"
   },
   {
    "duration": 29,
    "start_time": "2024-12-23T18:06:53.599Z"
   },
   {
    "duration": 3,
    "start_time": "2024-12-23T18:06:53.630Z"
   },
   {
    "duration": 5,
    "start_time": "2024-12-23T18:06:53.635Z"
   },
   {
    "duration": 1318,
    "start_time": "2024-12-23T18:06:53.641Z"
   },
   {
    "duration": 2733,
    "start_time": "2024-12-23T18:09:38.303Z"
   },
   {
    "duration": 2819,
    "start_time": "2024-12-23T18:11:35.318Z"
   },
   {
    "duration": 2813,
    "start_time": "2024-12-23T19:23:46.408Z"
   },
   {
    "duration": 106,
    "start_time": "2024-12-23T19:23:49.223Z"
   },
   {
    "duration": 11,
    "start_time": "2024-12-23T19:23:49.331Z"
   },
   {
    "duration": 8,
    "start_time": "2024-12-23T19:23:49.344Z"
   },
   {
    "duration": 9,
    "start_time": "2024-12-23T19:23:49.354Z"
   },
   {
    "duration": 4,
    "start_time": "2024-12-23T19:23:49.364Z"
   },
   {
    "duration": 21,
    "start_time": "2024-12-23T19:23:49.370Z"
   },
   {
    "duration": 2,
    "start_time": "2024-12-23T19:23:49.393Z"
   },
   {
    "duration": 133,
    "start_time": "2024-12-23T19:23:49.397Z"
   },
   {
    "duration": 12,
    "start_time": "2024-12-23T19:23:49.532Z"
   },
   {
    "duration": 5,
    "start_time": "2024-12-23T19:23:49.546Z"
   },
   {
    "duration": 7,
    "start_time": "2024-12-23T19:23:49.553Z"
   },
   {
    "duration": 32,
    "start_time": "2024-12-23T19:23:49.562Z"
   },
   {
    "duration": 3,
    "start_time": "2024-12-23T19:23:49.597Z"
   },
   {
    "duration": 132,
    "start_time": "2024-12-23T19:23:49.602Z"
   },
   {
    "duration": 12,
    "start_time": "2024-12-23T19:23:49.736Z"
   },
   {
    "duration": 11,
    "start_time": "2024-12-23T19:23:49.749Z"
   },
   {
    "duration": 38,
    "start_time": "2024-12-23T19:23:49.763Z"
   },
   {
    "duration": 4,
    "start_time": "2024-12-23T19:23:49.803Z"
   },
   {
    "duration": 48,
    "start_time": "2024-12-23T19:23:49.808Z"
   },
   {
    "duration": 4,
    "start_time": "2024-12-23T19:23:49.857Z"
   },
   {
    "duration": 3,
    "start_time": "2024-12-23T19:23:49.863Z"
   },
   {
    "duration": 3,
    "start_time": "2024-12-23T19:23:49.868Z"
   },
   {
    "duration": 5,
    "start_time": "2024-12-23T19:23:49.872Z"
   },
   {
    "duration": 3,
    "start_time": "2024-12-23T19:23:49.879Z"
   },
   {
    "duration": 3078,
    "start_time": "2024-12-23T19:23:49.883Z"
   },
   {
    "duration": 948,
    "start_time": "2024-12-23T19:25:18.950Z"
   },
   {
    "duration": 4,
    "start_time": "2024-12-23T19:26:09.600Z"
   },
   {
    "duration": 88,
    "start_time": "2024-12-23T19:26:09.607Z"
   },
   {
    "duration": 10,
    "start_time": "2024-12-23T19:26:09.697Z"
   },
   {
    "duration": 26,
    "start_time": "2024-12-23T19:26:09.709Z"
   },
   {
    "duration": 9,
    "start_time": "2024-12-23T19:26:09.738Z"
   },
   {
    "duration": 4,
    "start_time": "2024-12-23T19:26:09.749Z"
   },
   {
    "duration": 20,
    "start_time": "2024-12-23T19:26:09.755Z"
   },
   {
    "duration": 3,
    "start_time": "2024-12-23T19:26:09.777Z"
   },
   {
    "duration": 110,
    "start_time": "2024-12-23T19:26:09.781Z"
   },
   {
    "duration": 12,
    "start_time": "2024-12-23T19:26:09.893Z"
   },
   {
    "duration": 4,
    "start_time": "2024-12-23T19:26:09.907Z"
   },
   {
    "duration": 20,
    "start_time": "2024-12-23T19:26:09.913Z"
   },
   {
    "duration": 29,
    "start_time": "2024-12-23T19:26:09.936Z"
   },
   {
    "duration": 3,
    "start_time": "2024-12-23T19:26:09.968Z"
   },
   {
    "duration": 102,
    "start_time": "2024-12-23T19:26:09.972Z"
   },
   {
    "duration": 12,
    "start_time": "2024-12-23T19:26:10.076Z"
   },
   {
    "duration": 9,
    "start_time": "2024-12-23T19:26:10.091Z"
   },
   {
    "duration": 52,
    "start_time": "2024-12-23T19:26:10.101Z"
   },
   {
    "duration": 4,
    "start_time": "2024-12-23T19:26:10.154Z"
   },
   {
    "duration": 3,
    "start_time": "2024-12-23T19:26:10.160Z"
   },
   {
    "duration": 26,
    "start_time": "2024-12-23T19:26:10.165Z"
   },
   {
    "duration": 4,
    "start_time": "2024-12-23T19:26:20.416Z"
   },
   {
    "duration": 1006,
    "start_time": "2024-12-23T19:27:28.700Z"
   },
   {
    "duration": 92,
    "start_time": "2024-12-23T19:27:29.708Z"
   },
   {
    "duration": 12,
    "start_time": "2024-12-23T19:27:29.802Z"
   },
   {
    "duration": 25,
    "start_time": "2024-12-23T19:27:29.815Z"
   },
   {
    "duration": 9,
    "start_time": "2024-12-23T19:27:29.842Z"
   },
   {
    "duration": 3,
    "start_time": "2024-12-23T19:27:29.853Z"
   },
   {
    "duration": 24,
    "start_time": "2024-12-23T19:27:29.858Z"
   },
   {
    "duration": 3,
    "start_time": "2024-12-23T19:27:29.884Z"
   },
   {
    "duration": 107,
    "start_time": "2024-12-23T19:27:29.888Z"
   },
   {
    "duration": 12,
    "start_time": "2024-12-23T19:27:29.996Z"
   },
   {
    "duration": 5,
    "start_time": "2024-12-23T19:27:30.010Z"
   },
   {
    "duration": 8,
    "start_time": "2024-12-23T19:27:30.032Z"
   },
   {
    "duration": 33,
    "start_time": "2024-12-23T19:27:30.041Z"
   },
   {
    "duration": 4,
    "start_time": "2024-12-23T19:27:30.077Z"
   },
   {
    "duration": 99,
    "start_time": "2024-12-23T19:27:30.082Z"
   },
   {
    "duration": 11,
    "start_time": "2024-12-23T19:27:30.183Z"
   },
   {
    "duration": 7,
    "start_time": "2024-12-23T19:27:30.195Z"
   },
   {
    "duration": 48,
    "start_time": "2024-12-23T19:27:30.204Z"
   },
   {
    "duration": 4,
    "start_time": "2024-12-23T19:27:30.253Z"
   },
   {
    "duration": 2,
    "start_time": "2024-12-23T19:27:30.259Z"
   },
   {
    "duration": 3,
    "start_time": "2024-12-23T19:27:30.263Z"
   },
   {
    "duration": 3,
    "start_time": "2024-12-23T19:27:30.268Z"
   },
   {
    "duration": 3,
    "start_time": "2024-12-23T19:27:30.273Z"
   },
   {
    "duration": 5,
    "start_time": "2024-12-23T19:27:30.277Z"
   },
   {
    "duration": 3,
    "start_time": "2024-12-23T19:27:30.285Z"
   },
   {
    "duration": 233,
    "start_time": "2024-12-23T19:27:30.289Z"
   },
   {
    "duration": 849,
    "start_time": "2024-12-23T19:31:55.606Z"
   },
   {
    "duration": 990,
    "start_time": "2024-12-23T19:32:22.391Z"
   },
   {
    "duration": 86,
    "start_time": "2024-12-23T19:32:23.383Z"
   },
   {
    "duration": 13,
    "start_time": "2024-12-23T19:32:23.471Z"
   },
   {
    "duration": 10,
    "start_time": "2024-12-23T19:32:23.486Z"
   },
   {
    "duration": 12,
    "start_time": "2024-12-23T19:32:23.497Z"
   },
   {
    "duration": 21,
    "start_time": "2024-12-23T19:32:23.511Z"
   },
   {
    "duration": 21,
    "start_time": "2024-12-23T19:32:23.534Z"
   },
   {
    "duration": 3,
    "start_time": "2024-12-23T19:32:23.557Z"
   },
   {
    "duration": 101,
    "start_time": "2024-12-23T19:32:23.562Z"
   },
   {
    "duration": 11,
    "start_time": "2024-12-23T19:32:23.667Z"
   },
   {
    "duration": 4,
    "start_time": "2024-12-23T19:32:23.680Z"
   },
   {
    "duration": 9,
    "start_time": "2024-12-23T19:32:23.685Z"
   },
   {
    "duration": 51,
    "start_time": "2024-12-23T19:32:23.695Z"
   },
   {
    "duration": 4,
    "start_time": "2024-12-23T19:32:23.748Z"
   },
   {
    "duration": 90,
    "start_time": "2024-12-23T19:32:23.754Z"
   },
   {
    "duration": 11,
    "start_time": "2024-12-23T19:32:23.846Z"
   },
   {
    "duration": 9,
    "start_time": "2024-12-23T19:32:23.858Z"
   },
   {
    "duration": 33,
    "start_time": "2024-12-23T19:32:23.868Z"
   },
   {
    "duration": 30,
    "start_time": "2024-12-23T19:32:23.903Z"
   },
   {
    "duration": 3,
    "start_time": "2024-12-23T19:32:23.934Z"
   },
   {
    "duration": 3,
    "start_time": "2024-12-23T19:32:23.940Z"
   },
   {
    "duration": 4,
    "start_time": "2024-12-23T19:32:23.944Z"
   },
   {
    "duration": 3,
    "start_time": "2024-12-23T19:32:23.950Z"
   },
   {
    "duration": 4,
    "start_time": "2024-12-23T19:32:23.955Z"
   },
   {
    "duration": 3,
    "start_time": "2024-12-23T19:32:23.961Z"
   },
   {
    "duration": 3083,
    "start_time": "2024-12-23T19:32:23.966Z"
   },
   {
    "duration": 1025,
    "start_time": "2024-12-23T19:40:18.668Z"
   },
   {
    "duration": 110,
    "start_time": "2024-12-23T19:40:19.695Z"
   },
   {
    "duration": 13,
    "start_time": "2024-12-23T19:40:19.807Z"
   },
   {
    "duration": 14,
    "start_time": "2024-12-23T19:40:19.822Z"
   },
   {
    "duration": 9,
    "start_time": "2024-12-23T19:40:19.839Z"
   },
   {
    "duration": 5,
    "start_time": "2024-12-23T19:40:19.850Z"
   },
   {
    "duration": 24,
    "start_time": "2024-12-23T19:40:19.856Z"
   },
   {
    "duration": 3,
    "start_time": "2024-12-23T19:40:19.882Z"
   },
   {
    "duration": 106,
    "start_time": "2024-12-23T19:40:19.887Z"
   },
   {
    "duration": 11,
    "start_time": "2024-12-23T19:40:19.995Z"
   },
   {
    "duration": 5,
    "start_time": "2024-12-23T19:40:20.008Z"
   },
   {
    "duration": 19,
    "start_time": "2024-12-23T19:40:20.014Z"
   },
   {
    "duration": 31,
    "start_time": "2024-12-23T19:40:20.035Z"
   },
   {
    "duration": 3,
    "start_time": "2024-12-23T19:40:20.069Z"
   },
   {
    "duration": 104,
    "start_time": "2024-12-23T19:40:20.074Z"
   },
   {
    "duration": 12,
    "start_time": "2024-12-23T19:40:20.180Z"
   },
   {
    "duration": 7,
    "start_time": "2024-12-23T19:40:20.195Z"
   },
   {
    "duration": 48,
    "start_time": "2024-12-23T19:40:20.204Z"
   },
   {
    "duration": 5,
    "start_time": "2024-12-23T19:40:20.253Z"
   },
   {
    "duration": 2,
    "start_time": "2024-12-23T19:40:20.260Z"
   },
   {
    "duration": 4,
    "start_time": "2024-12-23T19:40:20.264Z"
   },
   {
    "duration": 4,
    "start_time": "2024-12-23T19:40:20.269Z"
   },
   {
    "duration": 3,
    "start_time": "2024-12-23T19:40:20.274Z"
   },
   {
    "duration": 4,
    "start_time": "2024-12-23T19:40:20.279Z"
   },
   {
    "duration": 3,
    "start_time": "2024-12-23T19:40:20.284Z"
   },
   {
    "duration": 3105,
    "start_time": "2024-12-23T19:40:20.289Z"
   },
   {
    "duration": 2722,
    "start_time": "2024-12-25T20:22:25.619Z"
   },
   {
    "duration": 116,
    "start_time": "2024-12-25T20:22:28.344Z"
   },
   {
    "duration": 11,
    "start_time": "2024-12-25T20:22:28.462Z"
   },
   {
    "duration": 9,
    "start_time": "2024-12-25T20:22:28.475Z"
   },
   {
    "duration": 13,
    "start_time": "2024-12-25T20:22:28.487Z"
   },
   {
    "duration": 11,
    "start_time": "2024-12-25T20:22:28.502Z"
   },
   {
    "duration": 37,
    "start_time": "2024-12-25T20:22:28.515Z"
   },
   {
    "duration": 4,
    "start_time": "2024-12-25T20:22:28.554Z"
   },
   {
    "duration": 107,
    "start_time": "2024-12-25T20:22:28.559Z"
   },
   {
    "duration": 11,
    "start_time": "2024-12-25T20:22:28.668Z"
   },
   {
    "duration": 5,
    "start_time": "2024-12-25T20:22:28.681Z"
   },
   {
    "duration": 7,
    "start_time": "2024-12-25T20:22:28.688Z"
   },
   {
    "duration": 50,
    "start_time": "2024-12-25T20:22:28.697Z"
   },
   {
    "duration": 4,
    "start_time": "2024-12-25T20:22:28.751Z"
   },
   {
    "duration": 104,
    "start_time": "2024-12-25T20:22:28.757Z"
   },
   {
    "duration": 11,
    "start_time": "2024-12-25T20:22:28.864Z"
   },
   {
    "duration": 9,
    "start_time": "2024-12-25T20:22:28.877Z"
   },
   {
    "duration": 61,
    "start_time": "2024-12-25T20:22:28.888Z"
   },
   {
    "duration": 3,
    "start_time": "2024-12-25T20:22:28.951Z"
   },
   {
    "duration": 2,
    "start_time": "2024-12-25T20:22:28.956Z"
   },
   {
    "duration": 4,
    "start_time": "2024-12-25T20:22:28.960Z"
   },
   {
    "duration": 2,
    "start_time": "2024-12-25T20:22:28.967Z"
   },
   {
    "duration": 3,
    "start_time": "2024-12-25T20:22:28.971Z"
   },
   {
    "duration": 4,
    "start_time": "2024-12-25T20:22:28.976Z"
   },
   {
    "duration": 9,
    "start_time": "2024-12-25T20:22:28.981Z"
   },
   {
    "duration": 1059,
    "start_time": "2024-12-25T20:22:28.994Z"
   },
   {
    "duration": 1031,
    "start_time": "2024-12-25T20:33:15.665Z"
   },
   {
    "duration": 90,
    "start_time": "2024-12-25T20:33:16.698Z"
   },
   {
    "duration": 13,
    "start_time": "2024-12-25T20:33:16.789Z"
   },
   {
    "duration": 10,
    "start_time": "2024-12-25T20:33:16.804Z"
   },
   {
    "duration": 10,
    "start_time": "2024-12-25T20:33:16.833Z"
   },
   {
    "duration": 3,
    "start_time": "2024-12-25T20:33:16.846Z"
   },
   {
    "duration": 24,
    "start_time": "2024-12-25T20:33:16.851Z"
   },
   {
    "duration": 4,
    "start_time": "2024-12-25T20:33:16.876Z"
   },
   {
    "duration": 111,
    "start_time": "2024-12-25T20:33:16.882Z"
   },
   {
    "duration": 11,
    "start_time": "2024-12-25T20:33:16.995Z"
   },
   {
    "duration": 5,
    "start_time": "2024-12-25T20:33:17.008Z"
   },
   {
    "duration": 25,
    "start_time": "2024-12-25T20:33:17.015Z"
   },
   {
    "duration": 32,
    "start_time": "2024-12-25T20:33:17.041Z"
   },
   {
    "duration": 4,
    "start_time": "2024-12-25T20:33:17.076Z"
   },
   {
    "duration": 118,
    "start_time": "2024-12-25T20:33:17.081Z"
   },
   {
    "duration": 12,
    "start_time": "2024-12-25T20:33:17.200Z"
   },
   {
    "duration": 18,
    "start_time": "2024-12-25T20:33:17.214Z"
   },
   {
    "duration": 33,
    "start_time": "2024-12-25T20:33:17.233Z"
   },
   {
    "duration": 4,
    "start_time": "2024-12-25T20:33:17.268Z"
   },
   {
    "duration": 4,
    "start_time": "2024-12-25T20:33:17.273Z"
   },
   {
    "duration": 3,
    "start_time": "2024-12-25T20:33:17.278Z"
   },
   {
    "duration": 4,
    "start_time": "2024-12-25T20:33:17.283Z"
   },
   {
    "duration": 3,
    "start_time": "2024-12-25T20:33:17.288Z"
   },
   {
    "duration": 39,
    "start_time": "2024-12-25T20:33:17.293Z"
   },
   {
    "duration": 3,
    "start_time": "2024-12-25T20:33:17.334Z"
   },
   {
    "duration": 427,
    "start_time": "2024-12-25T20:33:17.338Z"
   },
   {
    "duration": 1021,
    "start_time": "2024-12-25T20:33:48.011Z"
   },
   {
    "duration": 85,
    "start_time": "2024-12-25T20:33:49.033Z"
   },
   {
    "duration": 13,
    "start_time": "2024-12-25T20:33:49.131Z"
   },
   {
    "duration": 8,
    "start_time": "2024-12-25T20:33:49.146Z"
   },
   {
    "duration": 9,
    "start_time": "2024-12-25T20:33:49.156Z"
   },
   {
    "duration": 4,
    "start_time": "2024-12-25T20:33:49.167Z"
   },
   {
    "duration": 23,
    "start_time": "2024-12-25T20:33:49.173Z"
   },
   {
    "duration": 34,
    "start_time": "2024-12-25T20:33:49.198Z"
   },
   {
    "duration": 81,
    "start_time": "2024-12-25T20:33:49.234Z"
   },
   {
    "duration": 20,
    "start_time": "2024-12-25T20:33:49.318Z"
   },
   {
    "duration": 5,
    "start_time": "2024-12-25T20:33:49.340Z"
   },
   {
    "duration": 8,
    "start_time": "2024-12-25T20:33:49.347Z"
   },
   {
    "duration": 30,
    "start_time": "2024-12-25T20:33:49.357Z"
   },
   {
    "duration": 4,
    "start_time": "2024-12-25T20:33:49.389Z"
   },
   {
    "duration": 114,
    "start_time": "2024-12-25T20:33:49.395Z"
   },
   {
    "duration": 11,
    "start_time": "2024-12-25T20:33:49.511Z"
   },
   {
    "duration": 13,
    "start_time": "2024-12-25T20:33:49.523Z"
   },
   {
    "duration": 35,
    "start_time": "2024-12-25T20:33:49.538Z"
   },
   {
    "duration": 3,
    "start_time": "2024-12-25T20:33:49.575Z"
   },
   {
    "duration": 3,
    "start_time": "2024-12-25T20:33:49.580Z"
   },
   {
    "duration": 3,
    "start_time": "2024-12-25T20:33:49.585Z"
   },
   {
    "duration": 41,
    "start_time": "2024-12-25T20:33:49.590Z"
   },
   {
    "duration": 3,
    "start_time": "2024-12-25T20:33:49.633Z"
   },
   {
    "duration": 5,
    "start_time": "2024-12-25T20:33:49.638Z"
   },
   {
    "duration": 3,
    "start_time": "2024-12-25T20:33:49.644Z"
   },
   {
    "duration": 913,
    "start_time": "2024-12-25T20:33:49.649Z"
   },
   {
    "duration": 1021,
    "start_time": "2024-12-25T20:37:51.727Z"
   },
   {
    "duration": 89,
    "start_time": "2024-12-25T20:37:52.750Z"
   },
   {
    "duration": 12,
    "start_time": "2024-12-25T20:37:52.840Z"
   },
   {
    "duration": 11,
    "start_time": "2024-12-25T20:37:52.854Z"
   },
   {
    "duration": 11,
    "start_time": "2024-12-25T20:37:52.868Z"
   },
   {
    "duration": 4,
    "start_time": "2024-12-25T20:37:52.881Z"
   },
   {
    "duration": 58,
    "start_time": "2024-12-25T20:37:52.886Z"
   },
   {
    "duration": 3,
    "start_time": "2024-12-25T20:37:52.946Z"
   },
   {
    "duration": 92,
    "start_time": "2024-12-25T20:37:52.951Z"
   },
   {
    "duration": 11,
    "start_time": "2024-12-25T20:37:53.045Z"
   },
   {
    "duration": 5,
    "start_time": "2024-12-25T20:37:53.057Z"
   },
   {
    "duration": 10,
    "start_time": "2024-12-25T20:37:53.064Z"
   },
   {
    "duration": 61,
    "start_time": "2024-12-25T20:37:53.076Z"
   },
   {
    "duration": 4,
    "start_time": "2024-12-25T20:37:53.140Z"
   },
   {
    "duration": 95,
    "start_time": "2024-12-25T20:37:53.145Z"
   },
   {
    "duration": 11,
    "start_time": "2024-12-25T20:37:53.242Z"
   },
   {
    "duration": 8,
    "start_time": "2024-12-25T20:37:53.255Z"
   },
   {
    "duration": 33,
    "start_time": "2024-12-25T20:37:53.265Z"
   },
   {
    "duration": 3,
    "start_time": "2024-12-25T20:37:53.300Z"
   },
   {
    "duration": 28,
    "start_time": "2024-12-25T20:37:53.304Z"
   },
   {
    "duration": 4,
    "start_time": "2024-12-25T20:37:53.334Z"
   },
   {
    "duration": 4,
    "start_time": "2024-12-25T20:37:53.339Z"
   },
   {
    "duration": 3,
    "start_time": "2024-12-25T20:37:53.344Z"
   },
   {
    "duration": 4,
    "start_time": "2024-12-25T20:37:53.349Z"
   },
   {
    "duration": 3,
    "start_time": "2024-12-25T20:37:53.356Z"
   },
   {
    "duration": 3039,
    "start_time": "2024-12-25T20:37:53.361Z"
   },
   {
    "duration": 1099,
    "start_time": "2024-12-25T20:43:13.582Z"
   },
   {
    "duration": 94,
    "start_time": "2024-12-25T20:43:14.683Z"
   },
   {
    "duration": 12,
    "start_time": "2024-12-25T20:43:14.779Z"
   },
   {
    "duration": 10,
    "start_time": "2024-12-25T20:43:14.793Z"
   },
   {
    "duration": 29,
    "start_time": "2024-12-25T20:43:14.804Z"
   },
   {
    "duration": 4,
    "start_time": "2024-12-25T20:43:14.835Z"
   },
   {
    "duration": 24,
    "start_time": "2024-12-25T20:43:14.840Z"
   },
   {
    "duration": 3,
    "start_time": "2024-12-25T20:43:14.866Z"
   },
   {
    "duration": 103,
    "start_time": "2024-12-25T20:43:14.871Z"
   },
   {
    "duration": 11,
    "start_time": "2024-12-25T20:43:14.977Z"
   },
   {
    "duration": 5,
    "start_time": "2024-12-25T20:43:14.990Z"
   },
   {
    "duration": 8,
    "start_time": "2024-12-25T20:43:14.997Z"
   },
   {
    "duration": 32,
    "start_time": "2024-12-25T20:43:15.030Z"
   },
   {
    "duration": 4,
    "start_time": "2024-12-25T20:43:15.065Z"
   },
   {
    "duration": 87,
    "start_time": "2024-12-25T20:43:15.071Z"
   },
   {
    "duration": 13,
    "start_time": "2024-12-25T20:43:15.160Z"
   },
   {
    "duration": 12,
    "start_time": "2024-12-25T20:43:15.177Z"
   },
   {
    "duration": 51,
    "start_time": "2024-12-25T20:43:15.191Z"
   },
   {
    "duration": 5,
    "start_time": "2024-12-25T20:43:15.243Z"
   },
   {
    "duration": 2,
    "start_time": "2024-12-25T20:43:15.250Z"
   },
   {
    "duration": 4,
    "start_time": "2024-12-25T20:43:15.254Z"
   },
   {
    "duration": 3,
    "start_time": "2024-12-25T20:43:15.260Z"
   },
   {
    "duration": 3,
    "start_time": "2024-12-25T20:43:15.265Z"
   },
   {
    "duration": 5,
    "start_time": "2024-12-25T20:43:15.269Z"
   },
   {
    "duration": 3,
    "start_time": "2024-12-25T20:43:15.276Z"
   },
   {
    "duration": 945,
    "start_time": "2024-12-25T20:43:15.280Z"
   },
   {
    "duration": 994,
    "start_time": "2024-12-25T20:47:15.593Z"
   },
   {
    "duration": 88,
    "start_time": "2024-12-25T20:47:16.589Z"
   },
   {
    "duration": 12,
    "start_time": "2024-12-25T20:47:16.679Z"
   },
   {
    "duration": 8,
    "start_time": "2024-12-25T20:47:16.694Z"
   },
   {
    "duration": 27,
    "start_time": "2024-12-25T20:47:16.704Z"
   },
   {
    "duration": 5,
    "start_time": "2024-12-25T20:47:16.733Z"
   },
   {
    "duration": 21,
    "start_time": "2024-12-25T20:47:16.739Z"
   },
   {
    "duration": 3,
    "start_time": "2024-12-25T20:47:16.762Z"
   },
   {
    "duration": 105,
    "start_time": "2024-12-25T20:47:16.767Z"
   },
   {
    "duration": 10,
    "start_time": "2024-12-25T20:47:16.877Z"
   },
   {
    "duration": 4,
    "start_time": "2024-12-25T20:47:16.890Z"
   },
   {
    "duration": 7,
    "start_time": "2024-12-25T20:47:16.896Z"
   },
   {
    "duration": 52,
    "start_time": "2024-12-25T20:47:16.904Z"
   },
   {
    "duration": 4,
    "start_time": "2024-12-25T20:47:16.958Z"
   },
   {
    "duration": 92,
    "start_time": "2024-12-25T20:47:16.964Z"
   },
   {
    "duration": 11,
    "start_time": "2024-12-25T20:47:17.058Z"
   },
   {
    "duration": 9,
    "start_time": "2024-12-25T20:47:17.070Z"
   },
   {
    "duration": 54,
    "start_time": "2024-12-25T20:47:17.081Z"
   },
   {
    "duration": 4,
    "start_time": "2024-12-25T20:47:17.137Z"
   },
   {
    "duration": 2,
    "start_time": "2024-12-25T20:47:17.143Z"
   },
   {
    "duration": 4,
    "start_time": "2024-12-25T20:47:17.147Z"
   },
   {
    "duration": 3,
    "start_time": "2024-12-25T20:47:17.152Z"
   },
   {
    "duration": 4,
    "start_time": "2024-12-25T20:47:17.157Z"
   },
   {
    "duration": 5,
    "start_time": "2024-12-25T20:47:17.163Z"
   },
   {
    "duration": 3,
    "start_time": "2024-12-25T20:47:17.170Z"
   },
   {
    "duration": 423,
    "start_time": "2024-12-25T20:47:17.174Z"
   },
   {
    "duration": 1035,
    "start_time": "2024-12-25T20:48:19.242Z"
   },
   {
    "duration": 83,
    "start_time": "2024-12-25T20:48:20.280Z"
   },
   {
    "duration": 12,
    "start_time": "2024-12-25T20:48:20.364Z"
   },
   {
    "duration": 9,
    "start_time": "2024-12-25T20:48:20.378Z"
   },
   {
    "duration": 8,
    "start_time": "2024-12-25T20:48:20.388Z"
   },
   {
    "duration": 6,
    "start_time": "2024-12-25T20:48:20.398Z"
   },
   {
    "duration": 22,
    "start_time": "2024-12-25T20:48:20.432Z"
   },
   {
    "duration": 3,
    "start_time": "2024-12-25T20:48:20.456Z"
   },
   {
    "duration": 94,
    "start_time": "2024-12-25T20:48:20.461Z"
   },
   {
    "duration": 12,
    "start_time": "2024-12-25T20:48:20.558Z"
   },
   {
    "duration": 5,
    "start_time": "2024-12-25T20:48:20.572Z"
   },
   {
    "duration": 8,
    "start_time": "2024-12-25T20:48:20.579Z"
   },
   {
    "duration": 52,
    "start_time": "2024-12-25T20:48:20.589Z"
   },
   {
    "duration": 4,
    "start_time": "2024-12-25T20:48:20.643Z"
   },
   {
    "duration": 94,
    "start_time": "2024-12-25T20:48:20.649Z"
   },
   {
    "duration": 12,
    "start_time": "2024-12-25T20:48:20.745Z"
   },
   {
    "duration": 9,
    "start_time": "2024-12-25T20:48:20.759Z"
   },
   {
    "duration": 34,
    "start_time": "2024-12-25T20:48:20.770Z"
   },
   {
    "duration": 28,
    "start_time": "2024-12-25T20:48:20.806Z"
   },
   {
    "duration": 3,
    "start_time": "2024-12-25T20:48:20.836Z"
   },
   {
    "duration": 3,
    "start_time": "2024-12-25T20:48:20.841Z"
   },
   {
    "duration": 3,
    "start_time": "2024-12-25T20:48:20.846Z"
   },
   {
    "duration": 3,
    "start_time": "2024-12-25T20:48:20.851Z"
   },
   {
    "duration": 4,
    "start_time": "2024-12-25T20:48:20.856Z"
   },
   {
    "duration": 3,
    "start_time": "2024-12-25T20:48:20.862Z"
   },
   {
    "duration": 1168,
    "start_time": "2024-12-25T20:48:20.866Z"
   },
   {
    "duration": 1004,
    "start_time": "2024-12-25T20:54:19.383Z"
   },
   {
    "duration": 92,
    "start_time": "2024-12-25T20:54:20.389Z"
   },
   {
    "duration": 12,
    "start_time": "2024-12-25T20:54:20.483Z"
   },
   {
    "duration": 9,
    "start_time": "2024-12-25T20:54:20.498Z"
   },
   {
    "duration": 30,
    "start_time": "2024-12-25T20:54:20.509Z"
   },
   {
    "duration": 4,
    "start_time": "2024-12-25T20:54:20.541Z"
   },
   {
    "duration": 22,
    "start_time": "2024-12-25T20:54:20.546Z"
   },
   {
    "duration": 3,
    "start_time": "2024-12-25T20:54:20.569Z"
   },
   {
    "duration": 100,
    "start_time": "2024-12-25T20:54:20.574Z"
   },
   {
    "duration": 11,
    "start_time": "2024-12-25T20:54:20.677Z"
   },
   {
    "duration": 4,
    "start_time": "2024-12-25T20:54:20.689Z"
   },
   {
    "duration": 9,
    "start_time": "2024-12-25T20:54:20.695Z"
   },
   {
    "duration": 52,
    "start_time": "2024-12-25T20:54:20.706Z"
   },
   {
    "duration": 4,
    "start_time": "2024-12-25T20:54:20.759Z"
   },
   {
    "duration": 96,
    "start_time": "2024-12-25T20:54:20.765Z"
   },
   {
    "duration": 11,
    "start_time": "2024-12-25T20:54:20.862Z"
   },
   {
    "duration": 8,
    "start_time": "2024-12-25T20:54:20.874Z"
   },
   {
    "duration": 49,
    "start_time": "2024-12-25T20:54:20.883Z"
   },
   {
    "duration": 4,
    "start_time": "2024-12-25T20:54:20.934Z"
   },
   {
    "duration": 3,
    "start_time": "2024-12-25T20:54:20.940Z"
   },
   {
    "duration": 4,
    "start_time": "2024-12-25T20:54:20.945Z"
   },
   {
    "duration": 4,
    "start_time": "2024-12-25T20:54:20.950Z"
   },
   {
    "duration": 2,
    "start_time": "2024-12-25T20:54:20.956Z"
   },
   {
    "duration": 4,
    "start_time": "2024-12-25T20:54:20.960Z"
   },
   {
    "duration": 3,
    "start_time": "2024-12-25T20:54:20.966Z"
   },
   {
    "duration": 906,
    "start_time": "2024-12-25T20:54:20.970Z"
   },
   {
    "duration": 1094,
    "start_time": "2024-12-25T21:07:07.445Z"
   },
   {
    "duration": 91,
    "start_time": "2024-12-25T21:07:08.541Z"
   },
   {
    "duration": 12,
    "start_time": "2024-12-25T21:07:08.633Z"
   },
   {
    "duration": 10,
    "start_time": "2024-12-25T21:07:08.647Z"
   },
   {
    "duration": 10,
    "start_time": "2024-12-25T21:07:08.659Z"
   },
   {
    "duration": 4,
    "start_time": "2024-12-25T21:07:08.672Z"
   },
   {
    "duration": 54,
    "start_time": "2024-12-25T21:07:08.678Z"
   },
   {
    "duration": 3,
    "start_time": "2024-12-25T21:07:08.734Z"
   },
   {
    "duration": 94,
    "start_time": "2024-12-25T21:07:08.740Z"
   },
   {
    "duration": 12,
    "start_time": "2024-12-25T21:07:08.838Z"
   },
   {
    "duration": 5,
    "start_time": "2024-12-25T21:07:08.851Z"
   },
   {
    "duration": 9,
    "start_time": "2024-12-25T21:07:08.857Z"
   },
   {
    "duration": 31,
    "start_time": "2024-12-25T21:07:08.868Z"
   },
   {
    "duration": 32,
    "start_time": "2024-12-25T21:07:08.901Z"
   },
   {
    "duration": 81,
    "start_time": "2024-12-25T21:07:08.935Z"
   },
   {
    "duration": 23,
    "start_time": "2024-12-25T21:07:09.017Z"
   },
   {
    "duration": 8,
    "start_time": "2024-12-25T21:07:09.042Z"
   },
   {
    "duration": 32,
    "start_time": "2024-12-25T21:07:09.051Z"
   },
   {
    "duration": 4,
    "start_time": "2024-12-25T21:07:09.085Z"
   },
   {
    "duration": 4,
    "start_time": "2024-12-25T21:07:09.090Z"
   },
   {
    "duration": 35,
    "start_time": "2024-12-25T21:07:09.096Z"
   },
   {
    "duration": 4,
    "start_time": "2024-12-25T21:07:09.133Z"
   },
   {
    "duration": 3,
    "start_time": "2024-12-25T21:07:09.138Z"
   },
   {
    "duration": 4,
    "start_time": "2024-12-25T21:07:09.143Z"
   },
   {
    "duration": 2,
    "start_time": "2024-12-25T21:07:09.149Z"
   },
   {
    "duration": 2389,
    "start_time": "2024-12-25T21:07:09.153Z"
   },
   {
    "duration": 1056,
    "start_time": "2024-12-25T21:09:38.129Z"
   },
   {
    "duration": 85,
    "start_time": "2024-12-25T21:09:39.188Z"
   },
   {
    "duration": 12,
    "start_time": "2024-12-25T21:09:39.275Z"
   },
   {
    "duration": 9,
    "start_time": "2024-12-25T21:09:39.289Z"
   },
   {
    "duration": 9,
    "start_time": "2024-12-25T21:09:39.301Z"
   },
   {
    "duration": 22,
    "start_time": "2024-12-25T21:09:39.312Z"
   },
   {
    "duration": 23,
    "start_time": "2024-12-25T21:09:39.336Z"
   },
   {
    "duration": 3,
    "start_time": "2024-12-25T21:09:39.361Z"
   },
   {
    "duration": 104,
    "start_time": "2024-12-25T21:09:39.365Z"
   },
   {
    "duration": 12,
    "start_time": "2024-12-25T21:09:39.471Z"
   },
   {
    "duration": 5,
    "start_time": "2024-12-25T21:09:39.485Z"
   },
   {
    "duration": 7,
    "start_time": "2024-12-25T21:09:39.492Z"
   },
   {
    "duration": 51,
    "start_time": "2024-12-25T21:09:39.500Z"
   },
   {
    "duration": 5,
    "start_time": "2024-12-25T21:09:39.554Z"
   },
   {
    "duration": 94,
    "start_time": "2024-12-25T21:09:39.560Z"
   },
   {
    "duration": 12,
    "start_time": "2024-12-25T21:09:39.656Z"
   },
   {
    "duration": 9,
    "start_time": "2024-12-25T21:09:39.671Z"
   },
   {
    "duration": 51,
    "start_time": "2024-12-25T21:09:39.681Z"
   },
   {
    "duration": 4,
    "start_time": "2024-12-25T21:09:39.733Z"
   },
   {
    "duration": 3,
    "start_time": "2024-12-25T21:09:39.739Z"
   },
   {
    "duration": 4,
    "start_time": "2024-12-25T21:09:39.743Z"
   },
   {
    "duration": 3,
    "start_time": "2024-12-25T21:09:39.748Z"
   },
   {
    "duration": 3,
    "start_time": "2024-12-25T21:09:39.753Z"
   },
   {
    "duration": 4,
    "start_time": "2024-12-25T21:09:39.758Z"
   },
   {
    "duration": 3,
    "start_time": "2024-12-25T21:09:39.763Z"
   },
   {
    "duration": 2371,
    "start_time": "2024-12-25T21:09:39.768Z"
   },
   {
    "duration": 982,
    "start_time": "2024-12-25T21:10:03.367Z"
   },
   {
    "duration": 83,
    "start_time": "2024-12-25T21:10:04.351Z"
   },
   {
    "duration": 12,
    "start_time": "2024-12-25T21:10:04.436Z"
   },
   {
    "duration": 27,
    "start_time": "2024-12-25T21:10:04.451Z"
   },
   {
    "duration": 11,
    "start_time": "2024-12-25T21:10:04.480Z"
   },
   {
    "duration": 5,
    "start_time": "2024-12-25T21:10:04.493Z"
   },
   {
    "duration": 33,
    "start_time": "2024-12-25T21:10:04.500Z"
   },
   {
    "duration": 3,
    "start_time": "2024-12-25T21:10:04.535Z"
   },
   {
    "duration": 93,
    "start_time": "2024-12-25T21:10:04.539Z"
   },
   {
    "duration": 12,
    "start_time": "2024-12-25T21:10:04.635Z"
   },
   {
    "duration": 5,
    "start_time": "2024-12-25T21:10:04.649Z"
   },
   {
    "duration": 9,
    "start_time": "2024-12-25T21:10:04.656Z"
   },
   {
    "duration": 31,
    "start_time": "2024-12-25T21:10:04.667Z"
   },
   {
    "duration": 32,
    "start_time": "2024-12-25T21:10:04.700Z"
   },
   {
    "duration": 80,
    "start_time": "2024-12-25T21:10:04.734Z"
   },
   {
    "duration": 20,
    "start_time": "2024-12-25T21:10:04.816Z"
   },
   {
    "duration": 7,
    "start_time": "2024-12-25T21:10:04.838Z"
   },
   {
    "duration": 32,
    "start_time": "2024-12-25T21:10:04.849Z"
   },
   {
    "duration": 5,
    "start_time": "2024-12-25T21:10:04.882Z"
   },
   {
    "duration": 2,
    "start_time": "2024-12-25T21:10:04.889Z"
   },
   {
    "duration": 3,
    "start_time": "2024-12-25T21:10:04.893Z"
   },
   {
    "duration": 35,
    "start_time": "2024-12-25T21:10:04.898Z"
   },
   {
    "duration": 3,
    "start_time": "2024-12-25T21:10:04.934Z"
   },
   {
    "duration": 4,
    "start_time": "2024-12-25T21:10:04.939Z"
   },
   {
    "duration": 3,
    "start_time": "2024-12-25T21:10:04.944Z"
   },
   {
    "duration": 2500,
    "start_time": "2024-12-25T21:10:04.949Z"
   },
   {
    "duration": 1023,
    "start_time": "2024-12-25T21:17:51.226Z"
   },
   {
    "duration": 84,
    "start_time": "2024-12-25T21:17:52.251Z"
   },
   {
    "duration": 12,
    "start_time": "2024-12-25T21:17:52.337Z"
   },
   {
    "duration": 8,
    "start_time": "2024-12-25T21:17:52.352Z"
   },
   {
    "duration": 10,
    "start_time": "2024-12-25T21:17:52.361Z"
   },
   {
    "duration": 4,
    "start_time": "2024-12-25T21:17:52.373Z"
   },
   {
    "duration": 57,
    "start_time": "2024-12-25T21:17:52.379Z"
   },
   {
    "duration": 3,
    "start_time": "2024-12-25T21:17:52.438Z"
   },
   {
    "duration": 79,
    "start_time": "2024-12-25T21:17:52.443Z"
   },
   {
    "duration": 11,
    "start_time": "2024-12-25T21:17:52.534Z"
   },
   {
    "duration": 4,
    "start_time": "2024-12-25T21:17:52.547Z"
   },
   {
    "duration": 8,
    "start_time": "2024-12-25T21:17:52.553Z"
   },
   {
    "duration": 29,
    "start_time": "2024-12-25T21:17:52.563Z"
   },
   {
    "duration": 3,
    "start_time": "2024-12-25T21:17:52.594Z"
   },
   {
    "duration": 110,
    "start_time": "2024-12-25T21:17:52.599Z"
   },
   {
    "duration": 23,
    "start_time": "2024-12-25T21:17:52.711Z"
   },
   {
    "duration": 8,
    "start_time": "2024-12-25T21:17:52.735Z"
   },
   {
    "duration": 31,
    "start_time": "2024-12-25T21:17:52.745Z"
   },
   {
    "duration": 4,
    "start_time": "2024-12-25T21:17:52.778Z"
   },
   {
    "duration": 3,
    "start_time": "2024-12-25T21:17:52.783Z"
   },
   {
    "duration": 3,
    "start_time": "2024-12-25T21:17:52.788Z"
   },
   {
    "duration": 4,
    "start_time": "2024-12-25T21:17:52.792Z"
   },
   {
    "duration": 3,
    "start_time": "2024-12-25T21:17:52.831Z"
   },
   {
    "duration": 4,
    "start_time": "2024-12-25T21:17:52.836Z"
   },
   {
    "duration": 3,
    "start_time": "2024-12-25T21:17:52.842Z"
   },
   {
    "duration": 2123,
    "start_time": "2024-12-25T21:17:52.846Z"
   },
   {
    "duration": 1044,
    "start_time": "2024-12-25T21:18:38.821Z"
   },
   {
    "duration": 90,
    "start_time": "2024-12-25T21:18:39.867Z"
   },
   {
    "duration": 12,
    "start_time": "2024-12-25T21:18:39.959Z"
   },
   {
    "duration": 12,
    "start_time": "2024-12-25T21:18:39.973Z"
   },
   {
    "duration": 10,
    "start_time": "2024-12-25T21:18:39.987Z"
   },
   {
    "duration": 4,
    "start_time": "2024-12-25T21:18:39.998Z"
   },
   {
    "duration": 44,
    "start_time": "2024-12-25T21:18:40.004Z"
   },
   {
    "duration": 5,
    "start_time": "2024-12-25T21:18:40.050Z"
   },
   {
    "duration": 94,
    "start_time": "2024-12-25T21:18:40.058Z"
   },
   {
    "duration": 11,
    "start_time": "2024-12-25T21:18:40.154Z"
   },
   {
    "duration": 5,
    "start_time": "2024-12-25T21:18:40.167Z"
   },
   {
    "duration": 9,
    "start_time": "2024-12-25T21:18:40.173Z"
   },
   {
    "duration": 53,
    "start_time": "2024-12-25T21:18:40.184Z"
   },
   {
    "duration": 4,
    "start_time": "2024-12-25T21:18:40.240Z"
   },
   {
    "duration": 90,
    "start_time": "2024-12-25T21:18:40.246Z"
   },
   {
    "duration": 11,
    "start_time": "2024-12-25T21:18:40.338Z"
   },
   {
    "duration": 8,
    "start_time": "2024-12-25T21:18:40.350Z"
   },
   {
    "duration": 34,
    "start_time": "2024-12-25T21:18:40.361Z"
   },
   {
    "duration": 7,
    "start_time": "2024-12-25T21:18:40.396Z"
   },
   {
    "duration": 2,
    "start_time": "2024-12-25T21:18:40.406Z"
   },
   {
    "duration": 4,
    "start_time": "2024-12-25T21:18:40.432Z"
   },
   {
    "duration": 4,
    "start_time": "2024-12-25T21:18:40.438Z"
   },
   {
    "duration": 3,
    "start_time": "2024-12-25T21:18:40.443Z"
   },
   {
    "duration": 4,
    "start_time": "2024-12-25T21:18:40.448Z"
   },
   {
    "duration": 2,
    "start_time": "2024-12-25T21:18:40.454Z"
   },
   {
    "duration": 391,
    "start_time": "2024-12-25T21:18:40.458Z"
   },
   {
    "duration": 1031,
    "start_time": "2024-12-25T21:19:57.651Z"
   },
   {
    "duration": 94,
    "start_time": "2024-12-25T21:19:58.684Z"
   },
   {
    "duration": 11,
    "start_time": "2024-12-25T21:19:58.780Z"
   },
   {
    "duration": 9,
    "start_time": "2024-12-25T21:19:58.794Z"
   },
   {
    "duration": 12,
    "start_time": "2024-12-25T21:19:58.804Z"
   },
   {
    "duration": 4,
    "start_time": "2024-12-25T21:19:58.832Z"
   },
   {
    "duration": 22,
    "start_time": "2024-12-25T21:19:58.838Z"
   },
   {
    "duration": 3,
    "start_time": "2024-12-25T21:19:58.862Z"
   },
   {
    "duration": 107,
    "start_time": "2024-12-25T21:19:58.867Z"
   },
   {
    "duration": 11,
    "start_time": "2024-12-25T21:19:58.977Z"
   },
   {
    "duration": 4,
    "start_time": "2024-12-25T21:19:58.990Z"
   },
   {
    "duration": 8,
    "start_time": "2024-12-25T21:19:58.996Z"
   },
   {
    "duration": 55,
    "start_time": "2024-12-25T21:19:59.006Z"
   },
   {
    "duration": 4,
    "start_time": "2024-12-25T21:19:59.063Z"
   },
   {
    "duration": 91,
    "start_time": "2024-12-25T21:19:59.069Z"
   },
   {
    "duration": 11,
    "start_time": "2024-12-25T21:19:59.162Z"
   },
   {
    "duration": 9,
    "start_time": "2024-12-25T21:19:59.175Z"
   },
   {
    "duration": 54,
    "start_time": "2024-12-25T21:19:59.185Z"
   },
   {
    "duration": 3,
    "start_time": "2024-12-25T21:19:59.241Z"
   },
   {
    "duration": 2,
    "start_time": "2024-12-25T21:19:59.246Z"
   },
   {
    "duration": 4,
    "start_time": "2024-12-25T21:19:59.250Z"
   },
   {
    "duration": 3,
    "start_time": "2024-12-25T21:19:59.255Z"
   },
   {
    "duration": 2,
    "start_time": "2024-12-25T21:19:59.260Z"
   },
   {
    "duration": 4,
    "start_time": "2024-12-25T21:19:59.264Z"
   },
   {
    "duration": 3,
    "start_time": "2024-12-25T21:19:59.269Z"
   },
   {
    "duration": 2103,
    "start_time": "2024-12-25T21:19:59.274Z"
   },
   {
    "duration": 1032,
    "start_time": "2024-12-25T21:20:30.626Z"
   },
   {
    "duration": 87,
    "start_time": "2024-12-25T21:20:31.663Z"
   },
   {
    "duration": 13,
    "start_time": "2024-12-25T21:20:31.751Z"
   },
   {
    "duration": 8,
    "start_time": "2024-12-25T21:20:31.767Z"
   },
   {
    "duration": 9,
    "start_time": "2024-12-25T21:20:31.777Z"
   },
   {
    "duration": 4,
    "start_time": "2024-12-25T21:20:31.788Z"
   },
   {
    "duration": 46,
    "start_time": "2024-12-25T21:20:31.794Z"
   },
   {
    "duration": 3,
    "start_time": "2024-12-25T21:20:31.842Z"
   },
   {
    "duration": 89,
    "start_time": "2024-12-25T21:20:31.847Z"
   },
   {
    "duration": 12,
    "start_time": "2024-12-25T21:20:31.940Z"
   },
   {
    "duration": 4,
    "start_time": "2024-12-25T21:20:31.954Z"
   },
   {
    "duration": 10,
    "start_time": "2024-12-25T21:20:31.960Z"
   },
   {
    "duration": 31,
    "start_time": "2024-12-25T21:20:31.971Z"
   },
   {
    "duration": 3,
    "start_time": "2024-12-25T21:20:32.032Z"
   },
   {
    "duration": 79,
    "start_time": "2024-12-25T21:20:32.037Z"
   },
   {
    "duration": 24,
    "start_time": "2024-12-25T21:20:32.118Z"
   },
   {
    "duration": 7,
    "start_time": "2024-12-25T21:20:32.144Z"
   },
   {
    "duration": 32,
    "start_time": "2024-12-25T21:20:32.153Z"
   },
   {
    "duration": 4,
    "start_time": "2024-12-25T21:20:32.187Z"
   },
   {
    "duration": 2,
    "start_time": "2024-12-25T21:20:32.193Z"
   },
   {
    "duration": 3,
    "start_time": "2024-12-25T21:20:32.197Z"
   },
   {
    "duration": 3,
    "start_time": "2024-12-25T21:20:32.232Z"
   },
   {
    "duration": 2,
    "start_time": "2024-12-25T21:20:32.237Z"
   },
   {
    "duration": 4,
    "start_time": "2024-12-25T21:20:32.241Z"
   },
   {
    "duration": 4,
    "start_time": "2024-12-25T21:20:32.246Z"
   },
   {
    "duration": 2103,
    "start_time": "2024-12-25T21:20:32.251Z"
   },
   {
    "duration": 2591,
    "start_time": "2024-12-26T02:56:52.828Z"
   },
   {
    "duration": 106,
    "start_time": "2024-12-26T02:56:55.422Z"
   },
   {
    "duration": 12,
    "start_time": "2024-12-26T02:56:55.530Z"
   },
   {
    "duration": 8,
    "start_time": "2024-12-26T02:56:55.544Z"
   },
   {
    "duration": 10,
    "start_time": "2024-12-26T02:56:55.569Z"
   },
   {
    "duration": 5,
    "start_time": "2024-12-26T02:56:55.581Z"
   },
   {
    "duration": 21,
    "start_time": "2024-12-26T02:56:55.588Z"
   },
   {
    "duration": 3,
    "start_time": "2024-12-26T02:56:55.612Z"
   },
   {
    "duration": 108,
    "start_time": "2024-12-26T02:56:55.616Z"
   },
   {
    "duration": 10,
    "start_time": "2024-12-26T02:56:55.726Z"
   },
   {
    "duration": 5,
    "start_time": "2024-12-26T02:56:55.737Z"
   },
   {
    "duration": 8,
    "start_time": "2024-12-26T02:56:55.743Z"
   },
   {
    "duration": 31,
    "start_time": "2024-12-26T02:56:55.769Z"
   },
   {
    "duration": 3,
    "start_time": "2024-12-26T02:56:55.804Z"
   },
   {
    "duration": 100,
    "start_time": "2024-12-26T02:56:55.809Z"
   },
   {
    "duration": 11,
    "start_time": "2024-12-26T02:56:55.911Z"
   },
   {
    "duration": 6,
    "start_time": "2024-12-26T02:56:55.925Z"
   },
   {
    "duration": 44,
    "start_time": "2024-12-26T02:56:55.933Z"
   },
   {
    "duration": 4,
    "start_time": "2024-12-26T02:56:55.979Z"
   },
   {
    "duration": 2,
    "start_time": "2024-12-26T02:56:55.985Z"
   },
   {
    "duration": 3,
    "start_time": "2024-12-26T02:56:55.989Z"
   },
   {
    "duration": 3,
    "start_time": "2024-12-26T02:56:55.994Z"
   },
   {
    "duration": 2,
    "start_time": "2024-12-26T02:56:55.999Z"
   },
   {
    "duration": 4,
    "start_time": "2024-12-26T02:56:56.003Z"
   },
   {
    "duration": 3,
    "start_time": "2024-12-26T02:56:56.009Z"
   },
   {
    "duration": 2302,
    "start_time": "2024-12-26T02:56:56.013Z"
   },
   {
    "duration": 2687,
    "start_time": "2024-12-26T04:23:16.729Z"
   },
   {
    "duration": 111,
    "start_time": "2024-12-26T04:23:19.419Z"
   },
   {
    "duration": 11,
    "start_time": "2024-12-26T04:23:19.532Z"
   },
   {
    "duration": 13,
    "start_time": "2024-12-26T04:23:19.546Z"
   },
   {
    "duration": 9,
    "start_time": "2024-12-26T04:23:19.561Z"
   },
   {
    "duration": 17,
    "start_time": "2024-12-26T04:23:19.571Z"
   },
   {
    "duration": 22,
    "start_time": "2024-12-26T04:23:19.590Z"
   },
   {
    "duration": 3,
    "start_time": "2024-12-26T04:23:19.614Z"
   },
   {
    "duration": 110,
    "start_time": "2024-12-26T04:23:19.618Z"
   },
   {
    "duration": 10,
    "start_time": "2024-12-26T04:23:19.731Z"
   },
   {
    "duration": 5,
    "start_time": "2024-12-26T04:23:19.743Z"
   },
   {
    "duration": 9,
    "start_time": "2024-12-26T04:23:19.750Z"
   },
   {
    "duration": 56,
    "start_time": "2024-12-26T04:23:19.760Z"
   },
   {
    "duration": 3,
    "start_time": "2024-12-26T04:23:19.818Z"
   },
   {
    "duration": 104,
    "start_time": "2024-12-26T04:23:19.823Z"
   },
   {
    "duration": 11,
    "start_time": "2024-12-26T04:23:19.929Z"
   },
   {
    "duration": 8,
    "start_time": "2024-12-26T04:23:19.942Z"
   },
   {
    "duration": 49,
    "start_time": "2024-12-26T04:23:19.951Z"
   },
   {
    "duration": 4,
    "start_time": "2024-12-26T04:23:20.002Z"
   },
   {
    "duration": 2,
    "start_time": "2024-12-26T04:23:20.008Z"
   },
   {
    "duration": 4,
    "start_time": "2024-12-26T04:23:20.012Z"
   },
   {
    "duration": 3,
    "start_time": "2024-12-26T04:23:20.017Z"
   },
   {
    "duration": 2,
    "start_time": "2024-12-26T04:23:20.022Z"
   },
   {
    "duration": 4,
    "start_time": "2024-12-26T04:23:20.026Z"
   },
   {
    "duration": 2,
    "start_time": "2024-12-26T04:23:20.032Z"
   },
   {
    "duration": 2204,
    "start_time": "2024-12-26T04:23:20.036Z"
   },
   {
    "duration": 12,
    "start_time": "2024-12-26T04:39:54.546Z"
   },
   {
    "duration": 11,
    "start_time": "2024-12-26T04:39:58.563Z"
   },
   {
    "duration": 782,
    "start_time": "2024-12-26T04:41:16.370Z"
   },
   {
    "duration": 20,
    "start_time": "2024-12-26T04:42:02.450Z"
   },
   {
    "duration": 4,
    "start_time": "2024-12-26T04:42:37.784Z"
   },
   {
    "duration": 56,
    "start_time": "2024-12-26T04:43:08.262Z"
   },
   {
    "duration": 12,
    "start_time": "2024-12-26T04:44:28.961Z"
   },
   {
    "duration": 4,
    "start_time": "2024-12-26T04:44:30.399Z"
   },
   {
    "duration": 18,
    "start_time": "2024-12-26T04:44:39.088Z"
   },
   {
    "duration": 56,
    "start_time": "2024-12-26T04:45:07.004Z"
   },
   {
    "duration": 5,
    "start_time": "2024-12-26T04:46:10.734Z"
   },
   {
    "duration": 13,
    "start_time": "2024-12-26T04:47:14.460Z"
   },
   {
    "duration": 4,
    "start_time": "2024-12-26T04:47:16.434Z"
   },
   {
    "duration": 4,
    "start_time": "2024-12-26T04:47:25.901Z"
   },
   {
    "duration": 25,
    "start_time": "2024-12-26T04:47:32.886Z"
   },
   {
    "duration": 7,
    "start_time": "2024-12-26T04:47:39.723Z"
   },
   {
    "duration": 2194,
    "start_time": "2024-12-26T04:48:39.490Z"
   },
   {
    "duration": 3,
    "start_time": "2024-12-26T04:49:50.417Z"
   },
   {
    "duration": 3,
    "start_time": "2024-12-26T04:49:54.169Z"
   },
   {
    "duration": 5,
    "start_time": "2024-12-26T04:50:02.659Z"
   },
   {
    "duration": 3,
    "start_time": "2024-12-26T04:50:06.286Z"
   },
   {
    "duration": 230,
    "start_time": "2024-12-26T04:50:09.796Z"
   },
   {
    "duration": 3,
    "start_time": "2024-12-26T04:53:21.004Z"
   },
   {
    "duration": 3,
    "start_time": "2024-12-26T04:53:26.069Z"
   },
   {
    "duration": 6,
    "start_time": "2024-12-26T04:53:43.676Z"
   },
   {
    "duration": 4,
    "start_time": "2024-12-26T04:53:47.854Z"
   },
   {
    "duration": 66,
    "start_time": "2024-12-26T04:53:51.225Z"
   },
   {
    "duration": 165,
    "start_time": "2024-12-26T04:54:05.671Z"
   },
   {
    "duration": 4,
    "start_time": "2024-12-26T04:58:08.045Z"
   },
   {
    "duration": 3,
    "start_time": "2024-12-26T04:58:11.482Z"
   },
   {
    "duration": 228,
    "start_time": "2024-12-26T04:58:14.984Z"
   },
   {
    "duration": 4,
    "start_time": "2024-12-26T04:59:58.402Z"
   },
   {
    "duration": 3,
    "start_time": "2024-12-26T05:00:02.092Z"
   },
   {
    "duration": 13,
    "start_time": "2024-12-26T05:00:02.897Z"
   },
   {
    "duration": 7,
    "start_time": "2024-12-26T05:00:06.354Z"
   },
   {
    "duration": 219,
    "start_time": "2024-12-26T05:00:10.474Z"
   },
   {
    "duration": 3,
    "start_time": "2024-12-26T05:04:53.328Z"
   },
   {
    "duration": 3,
    "start_time": "2024-12-26T05:04:55.011Z"
   },
   {
    "duration": 4,
    "start_time": "2024-12-26T05:05:10.730Z"
   },
   {
    "duration": 194,
    "start_time": "2024-12-26T05:05:14.029Z"
   },
   {
    "duration": 4,
    "start_time": "2024-12-26T05:07:14.094Z"
   },
   {
    "duration": 3,
    "start_time": "2024-12-26T05:07:18.987Z"
   },
   {
    "duration": 2,
    "start_time": "2024-12-26T05:07:22.088Z"
   },
   {
    "duration": 3,
    "start_time": "2024-12-26T05:09:21.510Z"
   },
   {
    "duration": 5,
    "start_time": "2024-12-26T05:09:22.929Z"
   },
   {
    "duration": 3,
    "start_time": "2024-12-26T05:09:23.559Z"
   },
   {
    "duration": 3,
    "start_time": "2024-12-26T05:09:26.885Z"
   },
   {
    "duration": 180,
    "start_time": "2024-12-26T05:09:28.657Z"
   },
   {
    "duration": 4,
    "start_time": "2024-12-26T05:12:46.632Z"
   },
   {
    "duration": 2,
    "start_time": "2024-12-26T05:12:48.003Z"
   },
   {
    "duration": 6,
    "start_time": "2024-12-26T05:12:49.933Z"
   },
   {
    "duration": 4,
    "start_time": "2024-12-26T05:12:57.127Z"
   },
   {
    "duration": 3,
    "start_time": "2024-12-26T05:12:59.492Z"
   },
   {
    "duration": 183,
    "start_time": "2024-12-26T05:13:07.754Z"
   },
   {
    "duration": 4,
    "start_time": "2024-12-26T05:18:28.285Z"
   },
   {
    "duration": 2,
    "start_time": "2024-12-26T05:18:29.400Z"
   },
   {
    "duration": 5,
    "start_time": "2024-12-26T05:18:30.157Z"
   },
   {
    "duration": 3,
    "start_time": "2024-12-26T05:18:34.292Z"
   },
   {
    "duration": 206,
    "start_time": "2024-12-26T05:18:38.915Z"
   },
   {
    "duration": 3,
    "start_time": "2024-12-26T05:19:39.512Z"
   },
   {
    "duration": 2,
    "start_time": "2024-12-26T05:19:40.471Z"
   },
   {
    "duration": 4,
    "start_time": "2024-12-26T05:19:41.154Z"
   },
   {
    "duration": 2,
    "start_time": "2024-12-26T05:19:44.722Z"
   },
   {
    "duration": 4200,
    "start_time": "2024-12-26T05:19:46.707Z"
   },
   {
    "duration": 3,
    "start_time": "2024-12-26T05:20:05.983Z"
   },
   {
    "duration": 3,
    "start_time": "2024-12-26T05:20:07.368Z"
   },
   {
    "duration": 6,
    "start_time": "2024-12-26T05:20:08.583Z"
   },
   {
    "duration": 3,
    "start_time": "2024-12-26T05:20:11.656Z"
   },
   {
    "duration": 3287,
    "start_time": "2024-12-26T05:20:16.321Z"
   },
   {
    "duration": 5,
    "start_time": "2024-12-26T05:21:45.925Z"
   },
   {
    "duration": 3,
    "start_time": "2024-12-26T05:21:50.039Z"
   },
   {
    "duration": 3481,
    "start_time": "2024-12-26T05:21:53.093Z"
   },
   {
    "duration": 970,
    "start_time": "2024-12-26T05:32:02.432Z"
   },
   {
    "duration": 86,
    "start_time": "2024-12-26T05:32:03.404Z"
   },
   {
    "duration": 13,
    "start_time": "2024-12-26T05:32:03.492Z"
   },
   {
    "duration": 9,
    "start_time": "2024-12-26T05:32:03.508Z"
   },
   {
    "duration": 9,
    "start_time": "2024-12-26T05:32:03.518Z"
   },
   {
    "duration": 4,
    "start_time": "2024-12-26T05:32:03.529Z"
   },
   {
    "duration": 54,
    "start_time": "2024-12-26T05:32:03.534Z"
   },
   {
    "duration": 6,
    "start_time": "2024-12-26T05:32:03.589Z"
   },
   {
    "duration": 79,
    "start_time": "2024-12-26T05:32:03.597Z"
   },
   {
    "duration": 13,
    "start_time": "2024-12-26T05:32:03.688Z"
   },
   {
    "duration": 5,
    "start_time": "2024-12-26T05:32:03.702Z"
   },
   {
    "duration": 8,
    "start_time": "2024-12-26T05:32:03.709Z"
   },
   {
    "duration": 30,
    "start_time": "2024-12-26T05:32:03.718Z"
   },
   {
    "duration": 3,
    "start_time": "2024-12-26T05:32:03.750Z"
   },
   {
    "duration": 112,
    "start_time": "2024-12-26T05:32:03.755Z"
   },
   {
    "duration": 21,
    "start_time": "2024-12-26T05:32:03.868Z"
   },
   {
    "duration": 8,
    "start_time": "2024-12-26T05:32:03.890Z"
   },
   {
    "duration": 31,
    "start_time": "2024-12-26T05:32:03.900Z"
   },
   {
    "duration": 4,
    "start_time": "2024-12-26T05:32:03.933Z"
   },
   {
    "duration": 2,
    "start_time": "2024-12-26T05:32:03.939Z"
   },
   {
    "duration": 4,
    "start_time": "2024-12-26T05:32:03.942Z"
   },
   {
    "duration": 3,
    "start_time": "2024-12-26T05:32:03.948Z"
   },
   {
    "duration": 4,
    "start_time": "2024-12-26T05:32:03.988Z"
   },
   {
    "duration": 3,
    "start_time": "2024-12-26T05:32:03.994Z"
   },
   {
    "duration": 3,
    "start_time": "2024-12-26T05:32:03.999Z"
   },
   {
    "duration": 3043,
    "start_time": "2024-12-26T05:32:04.003Z"
   },
   {
    "duration": 2988,
    "start_time": "2024-12-26T05:32:41.049Z"
   },
   {
    "duration": 1022,
    "start_time": "2024-12-26T05:34:30.596Z"
   },
   {
    "duration": 90,
    "start_time": "2024-12-26T05:34:31.620Z"
   },
   {
    "duration": 11,
    "start_time": "2024-12-26T05:34:31.712Z"
   },
   {
    "duration": 9,
    "start_time": "2024-12-26T05:34:31.725Z"
   },
   {
    "duration": 10,
    "start_time": "2024-12-26T05:34:31.736Z"
   },
   {
    "duration": 4,
    "start_time": "2024-12-26T05:34:31.748Z"
   },
   {
    "duration": 45,
    "start_time": "2024-12-26T05:34:31.754Z"
   },
   {
    "duration": 3,
    "start_time": "2024-12-26T05:34:31.801Z"
   },
   {
    "duration": 91,
    "start_time": "2024-12-26T05:34:31.805Z"
   },
   {
    "duration": 10,
    "start_time": "2024-12-26T05:34:31.900Z"
   },
   {
    "duration": 4,
    "start_time": "2024-12-26T05:34:31.913Z"
   },
   {
    "duration": 7,
    "start_time": "2024-12-26T05:34:31.920Z"
   },
   {
    "duration": 30,
    "start_time": "2024-12-26T05:34:31.930Z"
   },
   {
    "duration": 4,
    "start_time": "2024-12-26T05:34:31.986Z"
   },
   {
    "duration": 79,
    "start_time": "2024-12-26T05:34:31.991Z"
   },
   {
    "duration": 23,
    "start_time": "2024-12-26T05:34:32.072Z"
   },
   {
    "duration": 7,
    "start_time": "2024-12-26T05:34:32.097Z"
   },
   {
    "duration": 32,
    "start_time": "2024-12-26T05:34:32.106Z"
   },
   {
    "duration": 3,
    "start_time": "2024-12-26T05:34:32.141Z"
   },
   {
    "duration": 2,
    "start_time": "2024-12-26T05:34:32.146Z"
   },
   {
    "duration": 4,
    "start_time": "2024-12-26T05:34:32.150Z"
   },
   {
    "duration": 34,
    "start_time": "2024-12-26T05:34:32.155Z"
   },
   {
    "duration": 2,
    "start_time": "2024-12-26T05:34:32.191Z"
   },
   {
    "duration": 5,
    "start_time": "2024-12-26T05:34:32.195Z"
   },
   {
    "duration": 3,
    "start_time": "2024-12-26T05:34:32.201Z"
   },
   {
    "duration": 3026,
    "start_time": "2024-12-26T05:34:32.206Z"
   },
   {
    "duration": 2774,
    "start_time": "2025-04-19T03:10:41.938Z"
   },
   {
    "duration": 114,
    "start_time": "2025-04-19T03:10:44.714Z"
   },
   {
    "duration": 12,
    "start_time": "2025-04-19T03:10:44.829Z"
   },
   {
    "duration": 9,
    "start_time": "2025-04-19T03:10:44.843Z"
   },
   {
    "duration": 13,
    "start_time": "2025-04-19T03:10:44.854Z"
   },
   {
    "duration": 4,
    "start_time": "2025-04-19T03:10:44.869Z"
   },
   {
    "duration": 25,
    "start_time": "2025-04-19T03:10:44.875Z"
   },
   {
    "duration": 3,
    "start_time": "2025-04-19T03:10:44.931Z"
   },
   {
    "duration": 108,
    "start_time": "2025-04-19T03:10:44.936Z"
   },
   {
    "duration": 11,
    "start_time": "2025-04-19T03:10:45.048Z"
   },
   {
    "duration": 5,
    "start_time": "2025-04-19T03:10:45.060Z"
   },
   {
    "duration": 9,
    "start_time": "2025-04-19T03:10:45.066Z"
   },
   {
    "duration": 58,
    "start_time": "2025-04-19T03:10:45.076Z"
   },
   {
    "duration": 3,
    "start_time": "2025-04-19T03:10:45.136Z"
   },
   {
    "duration": 109,
    "start_time": "2025-04-19T03:10:45.141Z"
   },
   {
    "duration": 10,
    "start_time": "2025-04-19T03:10:45.253Z"
   },
   {
    "duration": 7,
    "start_time": "2025-04-19T03:10:45.265Z"
   },
   {
    "duration": 34,
    "start_time": "2025-04-19T03:10:45.274Z"
   },
   {
    "duration": 22,
    "start_time": "2025-04-19T03:10:45.310Z"
   },
   {
    "duration": 3,
    "start_time": "2025-04-19T03:10:45.334Z"
   },
   {
    "duration": 5,
    "start_time": "2025-04-19T03:10:45.339Z"
   },
   {
    "duration": 4,
    "start_time": "2025-04-19T03:10:45.345Z"
   },
   {
    "duration": 3,
    "start_time": "2025-04-19T03:10:45.351Z"
   },
   {
    "duration": 5,
    "start_time": "2025-04-19T03:10:45.356Z"
   },
   {
    "duration": 3,
    "start_time": "2025-04-19T03:10:45.362Z"
   },
   {
    "duration": 3109,
    "start_time": "2025-04-19T03:10:45.367Z"
   }
  ],
  "kernelspec": {
   "display_name": "Python 3 (ipykernel)",
   "language": "python",
   "name": "python3"
  },
  "language_info": {
   "codemirror_mode": {
    "name": "ipython",
    "version": 3
   },
   "file_extension": ".py",
   "mimetype": "text/x-python",
   "name": "python",
   "nbconvert_exporter": "python",
   "pygments_lexer": "ipython3",
   "version": "3.9.19"
  },
  "toc": {
   "base_numbering": 1,
   "nav_menu": {},
   "number_sections": true,
   "sideBar": true,
   "skip_h1_title": true,
   "title_cell": "Table of Contents",
   "title_sidebar": "Contents",
   "toc_cell": false,
   "toc_position": {
    "height": "calc(100% - 180px)",
    "left": "10px",
    "top": "150px",
    "width": "336px"
   },
   "toc_section_display": true,
   "toc_window_display": true
  }
 },
 "nbformat": 4,
 "nbformat_minor": 2
}
